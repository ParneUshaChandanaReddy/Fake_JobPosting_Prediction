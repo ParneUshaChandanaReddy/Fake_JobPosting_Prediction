{
  "cells": [
    {
      "cell_type": "markdown",
      "metadata": {
        "id": "view-in-github",
        "colab_type": "text"
      },
      "source": [
        "<a href=\"https://colab.research.google.com/github/ParneUshaChandanaReddy/Fake_JobPosting_Prediction/blob/main/Fake_JobPosting_Prediction.ipynb\" target=\"_parent\"><img src=\"https://colab.research.google.com/assets/colab-badge.svg\" alt=\"Open In Colab\"/></a>"
      ]
    },
    {
      "cell_type": "code",
      "source": [
        "# Code to read csv file into colaboratory:\n",
        "!pip install -U -q PyDrive\n",
        "from pydrive.auth import GoogleAuth\n",
        "from pydrive.drive import GoogleDrive\n",
        "from google.colab import auth\n",
        "from oauth2client.client import GoogleCredentials"
      ],
      "metadata": {
        "id": "51L4MG_IvH6l"
      },
      "id": "51L4MG_IvH6l",
      "execution_count": 1,
      "outputs": []
    },
    {
      "cell_type": "code",
      "source": [
        "\n",
        "auth.authenticate_user()\n",
        "gauth = GoogleAuth()\n",
        "gauth.credentials = GoogleCredentials.get_application_default()\n",
        "drive = GoogleDrive(gauth)"
      ],
      "metadata": {
        "id": "daJwBsLmvJZO"
      },
      "id": "daJwBsLmvJZO",
      "execution_count": 2,
      "outputs": []
    },
    {
      "cell_type": "code",
      "source": [
        "downloaded = drive.CreateFile({'id':'1BuO0RHYEjueGxXGd6i407Pz5apQNeyi6'}) # replace the id with id of file you want to access\n",
        "downloaded.GetContentFile('fake_job_postings.csv') "
      ],
      "metadata": {
        "id": "szOBZjY3vJmw"
      },
      "id": "szOBZjY3vJmw",
      "execution_count": 3,
      "outputs": []
    },
    {
      "cell_type": "code",
      "execution_count": 4,
      "id": "b374cc31",
      "metadata": {
        "id": "b374cc31"
      },
      "outputs": [],
      "source": [
        "import numpy as np \n",
        "import pandas as pd\n",
        "import sklearn_pandas\n",
        "import sklearn as sk\n",
        "import seaborn as sns\n",
        "import matplotlib.pyplot as plt\n",
        "from sklearn.ensemble import RandomForestClassifier"
      ]
    },
    {
      "cell_type": "code",
      "execution_count": 5,
      "id": "95725b66",
      "metadata": {
        "colab": {
          "base_uri": "https://localhost:8080/",
          "height": 304
        },
        "id": "95725b66",
        "outputId": "2e627ce6-4a75-4242-a054-fbd02f96c263"
      },
      "outputs": [
        {
          "output_type": "execute_result",
          "data": {
            "text/plain": [
              "   job_id                                      title          location  \\\n",
              "0       1                           Marketing Intern  US, NY, New York   \n",
              "1       2  Customer Service - Cloud Video Production    NZ, , Auckland   \n",
              "\n",
              "  department salary_range                                    company_profile  \\\n",
              "0  Marketing          NaN  We're Food52, and we've created a groundbreaki...   \n",
              "1    Success          NaN  90 Seconds, the worlds Cloud Video Production ...   \n",
              "\n",
              "                                         description  \\\n",
              "0  Food52, a fast-growing, James Beard Award-winn...   \n",
              "1  Organised - Focused - Vibrant - Awesome!Do you...   \n",
              "\n",
              "                                        requirements  \\\n",
              "0  Experience with content management systems a m...   \n",
              "1  What we expect from you:Your key responsibilit...   \n",
              "\n",
              "                                            benefits  telecommuting  \\\n",
              "0                                                NaN              0   \n",
              "1  What you will get from usThrough being part of...              0   \n",
              "\n",
              "   has_company_logo  has_questions employment_type required_experience  \\\n",
              "0                 1              0           Other          Internship   \n",
              "1                 1              0       Full-time      Not Applicable   \n",
              "\n",
              "  required_education                   industry          function  fraudulent  \n",
              "0                NaN                        NaN         Marketing           0  \n",
              "1                NaN  Marketing and Advertising  Customer Service           0  "
            ],
            "text/html": [
              "\n",
              "  <div id=\"df-e94d0eed-4505-468b-8f47-1663185c3285\">\n",
              "    <div class=\"colab-df-container\">\n",
              "      <div>\n",
              "<style scoped>\n",
              "    .dataframe tbody tr th:only-of-type {\n",
              "        vertical-align: middle;\n",
              "    }\n",
              "\n",
              "    .dataframe tbody tr th {\n",
              "        vertical-align: top;\n",
              "    }\n",
              "\n",
              "    .dataframe thead th {\n",
              "        text-align: right;\n",
              "    }\n",
              "</style>\n",
              "<table border=\"1\" class=\"dataframe\">\n",
              "  <thead>\n",
              "    <tr style=\"text-align: right;\">\n",
              "      <th></th>\n",
              "      <th>job_id</th>\n",
              "      <th>title</th>\n",
              "      <th>location</th>\n",
              "      <th>department</th>\n",
              "      <th>salary_range</th>\n",
              "      <th>company_profile</th>\n",
              "      <th>description</th>\n",
              "      <th>requirements</th>\n",
              "      <th>benefits</th>\n",
              "      <th>telecommuting</th>\n",
              "      <th>has_company_logo</th>\n",
              "      <th>has_questions</th>\n",
              "      <th>employment_type</th>\n",
              "      <th>required_experience</th>\n",
              "      <th>required_education</th>\n",
              "      <th>industry</th>\n",
              "      <th>function</th>\n",
              "      <th>fraudulent</th>\n",
              "    </tr>\n",
              "  </thead>\n",
              "  <tbody>\n",
              "    <tr>\n",
              "      <th>0</th>\n",
              "      <td>1</td>\n",
              "      <td>Marketing Intern</td>\n",
              "      <td>US, NY, New York</td>\n",
              "      <td>Marketing</td>\n",
              "      <td>NaN</td>\n",
              "      <td>We're Food52, and we've created a groundbreaki...</td>\n",
              "      <td>Food52, a fast-growing, James Beard Award-winn...</td>\n",
              "      <td>Experience with content management systems a m...</td>\n",
              "      <td>NaN</td>\n",
              "      <td>0</td>\n",
              "      <td>1</td>\n",
              "      <td>0</td>\n",
              "      <td>Other</td>\n",
              "      <td>Internship</td>\n",
              "      <td>NaN</td>\n",
              "      <td>NaN</td>\n",
              "      <td>Marketing</td>\n",
              "      <td>0</td>\n",
              "    </tr>\n",
              "    <tr>\n",
              "      <th>1</th>\n",
              "      <td>2</td>\n",
              "      <td>Customer Service - Cloud Video Production</td>\n",
              "      <td>NZ, , Auckland</td>\n",
              "      <td>Success</td>\n",
              "      <td>NaN</td>\n",
              "      <td>90 Seconds, the worlds Cloud Video Production ...</td>\n",
              "      <td>Organised - Focused - Vibrant - Awesome!Do you...</td>\n",
              "      <td>What we expect from you:Your key responsibilit...</td>\n",
              "      <td>What you will get from usThrough being part of...</td>\n",
              "      <td>0</td>\n",
              "      <td>1</td>\n",
              "      <td>0</td>\n",
              "      <td>Full-time</td>\n",
              "      <td>Not Applicable</td>\n",
              "      <td>NaN</td>\n",
              "      <td>Marketing and Advertising</td>\n",
              "      <td>Customer Service</td>\n",
              "      <td>0</td>\n",
              "    </tr>\n",
              "  </tbody>\n",
              "</table>\n",
              "</div>\n",
              "      <button class=\"colab-df-convert\" onclick=\"convertToInteractive('df-e94d0eed-4505-468b-8f47-1663185c3285')\"\n",
              "              title=\"Convert this dataframe to an interactive table.\"\n",
              "              style=\"display:none;\">\n",
              "        \n",
              "  <svg xmlns=\"http://www.w3.org/2000/svg\" height=\"24px\"viewBox=\"0 0 24 24\"\n",
              "       width=\"24px\">\n",
              "    <path d=\"M0 0h24v24H0V0z\" fill=\"none\"/>\n",
              "    <path d=\"M18.56 5.44l.94 2.06.94-2.06 2.06-.94-2.06-.94-.94-2.06-.94 2.06-2.06.94zm-11 1L8.5 8.5l.94-2.06 2.06-.94-2.06-.94L8.5 2.5l-.94 2.06-2.06.94zm10 10l.94 2.06.94-2.06 2.06-.94-2.06-.94-.94-2.06-.94 2.06-2.06.94z\"/><path d=\"M17.41 7.96l-1.37-1.37c-.4-.4-.92-.59-1.43-.59-.52 0-1.04.2-1.43.59L10.3 9.45l-7.72 7.72c-.78.78-.78 2.05 0 2.83L4 21.41c.39.39.9.59 1.41.59.51 0 1.02-.2 1.41-.59l7.78-7.78 2.81-2.81c.8-.78.8-2.07 0-2.86zM5.41 20L4 18.59l7.72-7.72 1.47 1.35L5.41 20z\"/>\n",
              "  </svg>\n",
              "      </button>\n",
              "      \n",
              "  <style>\n",
              "    .colab-df-container {\n",
              "      display:flex;\n",
              "      flex-wrap:wrap;\n",
              "      gap: 12px;\n",
              "    }\n",
              "\n",
              "    .colab-df-convert {\n",
              "      background-color: #E8F0FE;\n",
              "      border: none;\n",
              "      border-radius: 50%;\n",
              "      cursor: pointer;\n",
              "      display: none;\n",
              "      fill: #1967D2;\n",
              "      height: 32px;\n",
              "      padding: 0 0 0 0;\n",
              "      width: 32px;\n",
              "    }\n",
              "\n",
              "    .colab-df-convert:hover {\n",
              "      background-color: #E2EBFA;\n",
              "      box-shadow: 0px 1px 2px rgba(60, 64, 67, 0.3), 0px 1px 3px 1px rgba(60, 64, 67, 0.15);\n",
              "      fill: #174EA6;\n",
              "    }\n",
              "\n",
              "    [theme=dark] .colab-df-convert {\n",
              "      background-color: #3B4455;\n",
              "      fill: #D2E3FC;\n",
              "    }\n",
              "\n",
              "    [theme=dark] .colab-df-convert:hover {\n",
              "      background-color: #434B5C;\n",
              "      box-shadow: 0px 1px 3px 1px rgba(0, 0, 0, 0.15);\n",
              "      filter: drop-shadow(0px 1px 2px rgba(0, 0, 0, 0.3));\n",
              "      fill: #FFFFFF;\n",
              "    }\n",
              "  </style>\n",
              "\n",
              "      <script>\n",
              "        const buttonEl =\n",
              "          document.querySelector('#df-e94d0eed-4505-468b-8f47-1663185c3285 button.colab-df-convert');\n",
              "        buttonEl.style.display =\n",
              "          google.colab.kernel.accessAllowed ? 'block' : 'none';\n",
              "\n",
              "        async function convertToInteractive(key) {\n",
              "          const element = document.querySelector('#df-e94d0eed-4505-468b-8f47-1663185c3285');\n",
              "          const dataTable =\n",
              "            await google.colab.kernel.invokeFunction('convertToInteractive',\n",
              "                                                     [key], {});\n",
              "          if (!dataTable) return;\n",
              "\n",
              "          const docLinkHtml = 'Like what you see? Visit the ' +\n",
              "            '<a target=\"_blank\" href=https://colab.research.google.com/notebooks/data_table.ipynb>data table notebook</a>'\n",
              "            + ' to learn more about interactive tables.';\n",
              "          element.innerHTML = '';\n",
              "          dataTable['output_type'] = 'display_data';\n",
              "          await google.colab.output.renderOutput(dataTable, element);\n",
              "          const docLink = document.createElement('div');\n",
              "          docLink.innerHTML = docLinkHtml;\n",
              "          element.appendChild(docLink);\n",
              "        }\n",
              "      </script>\n",
              "    </div>\n",
              "  </div>\n",
              "  "
            ]
          },
          "metadata": {},
          "execution_count": 5
        }
      ],
      "source": [
        "df=pd.read_csv('fake_job_postings.csv')\n",
        "df.head(2)"
      ]
    },
    {
      "cell_type": "markdown",
      "id": "c53269b2",
      "metadata": {
        "id": "c53269b2"
      },
      "source": [
        "# Exploring the dataset "
      ]
    },
    {
      "cell_type": "code",
      "execution_count": 6,
      "id": "3adf844f",
      "metadata": {
        "colab": {
          "base_uri": "https://localhost:8080/"
        },
        "id": "3adf844f",
        "outputId": "90e9d90e-0615-42b1-8a99-9fa094e2ecd9"
      },
      "outputs": [
        {
          "output_type": "execute_result",
          "data": {
            "text/plain": [
              "Index(['job_id', 'title', 'location', 'department', 'salary_range',\n",
              "       'company_profile', 'description', 'requirements', 'benefits',\n",
              "       'telecommuting', 'has_company_logo', 'has_questions', 'employment_type',\n",
              "       'required_experience', 'required_education', 'industry', 'function',\n",
              "       'fraudulent'],\n",
              "      dtype='object')"
            ]
          },
          "metadata": {},
          "execution_count": 6
        }
      ],
      "source": [
        "df.columns\n"
      ]
    },
    {
      "cell_type": "code",
      "source": [
        ""
      ],
      "metadata": {
        "id": "lifa7ecXvFvo"
      },
      "id": "lifa7ecXvFvo",
      "execution_count": null,
      "outputs": []
    },
    {
      "cell_type": "code",
      "execution_count": 7,
      "id": "61b4d0b4",
      "metadata": {
        "colab": {
          "base_uri": "https://localhost:8080/"
        },
        "id": "61b4d0b4",
        "outputId": "94bcd4c6-09d1-4938-ad0a-43231878ea40"
      },
      "outputs": [
        {
          "output_type": "stream",
          "name": "stdout",
          "text": [
            "(3388, 18)\n",
            "(4702, 18)\n"
          ]
        },
        {
          "output_type": "execute_result",
          "data": {
            "text/plain": [
              "0    4453\n",
              "1     249\n",
              "Name: fraudulent, dtype: int64"
            ]
          },
          "metadata": {},
          "execution_count": 7
        }
      ],
      "source": [
        "df['function'].value_counts()\n",
        "stem = ['Information Technology', 'Engineering', 'Data Analyst', 'Science', 'Business Analyst', 'Quality Assurance']\n",
        "non_stem = ['Sales', 'Customer Service', 'Marketing', 'Administrative', 'Design', 'Human Resources']\n",
        "df_stem = df[df['function'].isin(stem)]\n",
        "df_non_stem = df[df['function'].isin(non_stem)]\n",
        "print(df_stem.shape)\n",
        "print(df_non_stem.shape)\n",
        "\n",
        "df_non_stem['fraudulent'].value_counts()"
      ]
    },
    {
      "cell_type": "code",
      "execution_count": 8,
      "id": "6d4d8804",
      "metadata": {
        "colab": {
          "base_uri": "https://localhost:8080/",
          "height": 590
        },
        "id": "6d4d8804",
        "outputId": "47c6fdaa-eed7-49a0-d060-bfa27a36d39c"
      },
      "outputs": [
        {
          "output_type": "display_data",
          "data": {
            "text/plain": [
              "<Figure size 720x720 with 1 Axes>"
            ],
            "image/png": "[encoded data removed]"
          },
          "metadata": {}
        }
      ],
      "source": [
        "import matplotlib.pyplot as plt\n",
        "\n",
        "stem_zero = df_stem['fraudulent'].value_counts()[0]\n",
        "stem_one = df_stem['fraudulent'].value_counts()[1]\n",
        "non_stem_zero = df_non_stem['fraudulent'].value_counts()[0]\n",
        "non_stem_one = df_non_stem['fraudulent'].value_counts()[1]\n",
        "\n",
        "labels = 'Real Job Posting', 'Fraudulent'\n",
        "sizes = [stem_zero, stem_one]\n",
        "explode = (0, 0.1)  \n",
        "\n",
        "#add colors\n",
        "colors = ['#C0C0C0','#CFFFA6']\n",
        "\n",
        "fig1, ax1 = plt.subplots(figsize = (10, 10))\n",
        "ax1.pie(sizes, explode=explode, colors=colors, labels = labels, autopct='%1.1f%%',\n",
        "        shadow=True, startangle=90)\n",
        "ax1.axis('equal')  # Equal aspect ratio ensures that pie is drawn as a circle.\n",
        "plt.title('STEM')\n",
        "plt.legend()\n",
        "plt.show()"
      ]
    },
    {
      "cell_type": "markdown",
      "id": "e8a3420a",
      "metadata": {
        "id": "e8a3420a"
      },
      "source": [
        "# Differentiate categorical data and numerical data"
      ]
    },
    {
      "cell_type": "code",
      "execution_count": 9,
      "id": "2ee49a37",
      "metadata": {
        "id": "2ee49a37"
      },
      "outputs": [],
      "source": [
        "\n",
        "df_num = df[['telecommuting','has_company_logo','has_questions','fraudulent','salary_range']]\n",
        "df_cat = df[['title', 'location','company_profile', 'requirements','employment_type',\n",
        "       'required_experience', 'required_education', 'industry', 'function']]"
      ]
    },
    {
      "cell_type": "markdown",
      "id": "4353e4d2",
      "metadata": {
        "id": "4353e4d2"
      },
      "source": [
        "# Checking for Outliers in numerical data to minimise overfitting\n"
      ]
    },
    {
      "cell_type": "code",
      "execution_count": 10,
      "id": "dcef66fb",
      "metadata": {
        "colab": {
          "base_uri": "https://localhost:8080/",
          "height": 483
        },
        "id": "dcef66fb",
        "outputId": "4972d932-94b1-4963-d526-d21aea79cfa1"
      },
      "outputs": [
        {
          "output_type": "display_data",
          "data": {
            "text/plain": [
              "<Figure size 1152x576 with 1 Axes>"
            ],
            "image/png": "[encoded data removed]"
          },
          "metadata": {
            "needs_background": "light"
          }
        }
      ],
      "source": [
        "plt.figure(figsize=[16,8])\n",
        "sns.boxplot(data = df_num)\n",
        "plt.show()"
      ]
    },
    {
      "cell_type": "code",
      "execution_count": 11,
      "id": "ee0988cc",
      "metadata": {
        "colab": {
          "base_uri": "https://localhost:8080/",
          "height": 411
        },
        "id": "ee0988cc",
        "outputId": "5ecb8383-a9a5-48c8-f5d0-79a40b37c2fd"
      },
      "outputs": [
        {
          "output_type": "execute_result",
          "data": {
            "text/plain": [
              "       telecommuting  has_company_logo  has_questions  fraudulent salary_range\n",
              "0                  0                 1              0           0          NaN\n",
              "1                  0                 1              0           0          NaN\n",
              "2                  0                 1              0           0          NaN\n",
              "3                  0                 1              0           0          NaN\n",
              "4                  0                 1              1           0          NaN\n",
              "...              ...               ...            ...         ...          ...\n",
              "17872              0                 1              0           0          NaN\n",
              "17873              0                 1              0           0          NaN\n",
              "17875              0                 1              1           0          NaN\n",
              "17876              0                 1              1           0          NaN\n",
              "17879              0                 1              1           0          NaN\n",
              "\n",
              "[13377 rows x 5 columns]"
            ],
            "text/html": [
              "\n",
              "  <div id=\"df-0cd161cc-f4b0-4602-87ce-d7a327854da1\">\n",
              "    <div class=\"colab-df-container\">\n",
              "      <div>\n",
              "<style scoped>\n",
              "    .dataframe tbody tr th:only-of-type {\n",
              "        vertical-align: middle;\n",
              "    }\n",
              "\n",
              "    .dataframe tbody tr th {\n",
              "        vertical-align: top;\n",
              "    }\n",
              "\n",
              "    .dataframe thead th {\n",
              "        text-align: right;\n",
              "    }\n",
              "</style>\n",
              "<table border=\"1\" class=\"dataframe\">\n",
              "  <thead>\n",
              "    <tr style=\"text-align: right;\">\n",
              "      <th></th>\n",
              "      <th>telecommuting</th>\n",
              "      <th>has_company_logo</th>\n",
              "      <th>has_questions</th>\n",
              "      <th>fraudulent</th>\n",
              "      <th>salary_range</th>\n",
              "    </tr>\n",
              "  </thead>\n",
              "  <tbody>\n",
              "    <tr>\n",
              "      <th>0</th>\n",
              "      <td>0</td>\n",
              "      <td>1</td>\n",
              "      <td>0</td>\n",
              "      <td>0</td>\n",
              "      <td>NaN</td>\n",
              "    </tr>\n",
              "    <tr>\n",
              "      <th>1</th>\n",
              "      <td>0</td>\n",
              "      <td>1</td>\n",
              "      <td>0</td>\n",
              "      <td>0</td>\n",
              "      <td>NaN</td>\n",
              "    </tr>\n",
              "    <tr>\n",
              "      <th>2</th>\n",
              "      <td>0</td>\n",
              "      <td>1</td>\n",
              "      <td>0</td>\n",
              "      <td>0</td>\n",
              "      <td>NaN</td>\n",
              "    </tr>\n",
              "    <tr>\n",
              "      <th>3</th>\n",
              "      <td>0</td>\n",
              "      <td>1</td>\n",
              "      <td>0</td>\n",
              "      <td>0</td>\n",
              "      <td>NaN</td>\n",
              "    </tr>\n",
              "    <tr>\n",
              "      <th>4</th>\n",
              "      <td>0</td>\n",
              "      <td>1</td>\n",
              "      <td>1</td>\n",
              "      <td>0</td>\n",
              "      <td>NaN</td>\n",
              "    </tr>\n",
              "    <tr>\n",
              "      <th>...</th>\n",
              "      <td>...</td>\n",
              "      <td>...</td>\n",
              "      <td>...</td>\n",
              "      <td>...</td>\n",
              "      <td>...</td>\n",
              "    </tr>\n",
              "    <tr>\n",
              "      <th>17872</th>\n",
              "      <td>0</td>\n",
              "      <td>1</td>\n",
              "      <td>0</td>\n",
              "      <td>0</td>\n",
              "      <td>NaN</td>\n",
              "    </tr>\n",
              "    <tr>\n",
              "      <th>17873</th>\n",
              "      <td>0</td>\n",
              "      <td>1</td>\n",
              "      <td>0</td>\n",
              "      <td>0</td>\n",
              "      <td>NaN</td>\n",
              "    </tr>\n",
              "    <tr>\n",
              "      <th>17875</th>\n",
              "      <td>0</td>\n",
              "      <td>1</td>\n",
              "      <td>1</td>\n",
              "      <td>0</td>\n",
              "      <td>NaN</td>\n",
              "    </tr>\n",
              "    <tr>\n",
              "      <th>17876</th>\n",
              "      <td>0</td>\n",
              "      <td>1</td>\n",
              "      <td>1</td>\n",
              "      <td>0</td>\n",
              "      <td>NaN</td>\n",
              "    </tr>\n",
              "    <tr>\n",
              "      <th>17879</th>\n",
              "      <td>0</td>\n",
              "      <td>1</td>\n",
              "      <td>1</td>\n",
              "      <td>0</td>\n",
              "      <td>NaN</td>\n",
              "    </tr>\n",
              "  </tbody>\n",
              "</table>\n",
              "<p>13377 rows × 5 columns</p>\n",
              "</div>\n",
              "      <button class=\"colab-df-convert\" onclick=\"convertToInteractive('df-0cd161cc-f4b0-4602-87ce-d7a327854da1')\"\n",
              "              title=\"Convert this dataframe to an interactive table.\"\n",
              "              style=\"display:none;\">\n",
              "        \n",
              "  <svg xmlns=\"http://www.w3.org/2000/svg\" height=\"24px\"viewBox=\"0 0 24 24\"\n",
              "       width=\"24px\">\n",
              "    <path d=\"M0 0h24v24H0V0z\" fill=\"none\"/>\n",
              "    <path d=\"M18.56 5.44l.94 2.06.94-2.06 2.06-.94-2.06-.94-.94-2.06-.94 2.06-2.06.94zm-11 1L8.5 8.5l.94-2.06 2.06-.94-2.06-.94L8.5 2.5l-.94 2.06-2.06.94zm10 10l.94 2.06.94-2.06 2.06-.94-2.06-.94-.94-2.06-.94 2.06-2.06.94z\"/><path d=\"M17.41 7.96l-1.37-1.37c-.4-.4-.92-.59-1.43-.59-.52 0-1.04.2-1.43.59L10.3 9.45l-7.72 7.72c-.78.78-.78 2.05 0 2.83L4 21.41c.39.39.9.59 1.41.59.51 0 1.02-.2 1.41-.59l7.78-7.78 2.81-2.81c.8-.78.8-2.07 0-2.86zM5.41 20L4 18.59l7.72-7.72 1.47 1.35L5.41 20z\"/>\n",
              "  </svg>\n",
              "      </button>\n",
              "      \n",
              "  <style>\n",
              "    .colab-df-container {\n",
              "      display:flex;\n",
              "      flex-wrap:wrap;\n",
              "      gap: 12px;\n",
              "    }\n",
              "\n",
              "    .colab-df-convert {\n",
              "      background-color: #E8F0FE;\n",
              "      border: none;\n",
              "      border-radius: 50%;\n",
              "      cursor: pointer;\n",
              "      display: none;\n",
              "      fill: #1967D2;\n",
              "      height: 32px;\n",
              "      padding: 0 0 0 0;\n",
              "      width: 32px;\n",
              "    }\n",
              "\n",
              "    .colab-df-convert:hover {\n",
              "      background-color: #E2EBFA;\n",
              "      box-shadow: 0px 1px 2px rgba(60, 64, 67, 0.3), 0px 1px 3px 1px rgba(60, 64, 67, 0.15);\n",
              "      fill: #174EA6;\n",
              "    }\n",
              "\n",
              "    [theme=dark] .colab-df-convert {\n",
              "      background-color: #3B4455;\n",
              "      fill: #D2E3FC;\n",
              "    }\n",
              "\n",
              "    [theme=dark] .colab-df-convert:hover {\n",
              "      background-color: #434B5C;\n",
              "      box-shadow: 0px 1px 3px 1px rgba(0, 0, 0, 0.15);\n",
              "      filter: drop-shadow(0px 1px 2px rgba(0, 0, 0, 0.3));\n",
              "      fill: #FFFFFF;\n",
              "    }\n",
              "  </style>\n",
              "\n",
              "      <script>\n",
              "        const buttonEl =\n",
              "          document.querySelector('#df-0cd161cc-f4b0-4602-87ce-d7a327854da1 button.colab-df-convert');\n",
              "        buttonEl.style.display =\n",
              "          google.colab.kernel.accessAllowed ? 'block' : 'none';\n",
              "\n",
              "        async function convertToInteractive(key) {\n",
              "          const element = document.querySelector('#df-0cd161cc-f4b0-4602-87ce-d7a327854da1');\n",
              "          const dataTable =\n",
              "            await google.colab.kernel.invokeFunction('convertToInteractive',\n",
              "                                                     [key], {});\n",
              "          if (!dataTable) return;\n",
              "\n",
              "          const docLinkHtml = 'Like what you see? Visit the ' +\n",
              "            '<a target=\"_blank\" href=https://colab.research.google.com/notebooks/data_table.ipynb>data table notebook</a>'\n",
              "            + ' to learn more about interactive tables.';\n",
              "          element.innerHTML = '';\n",
              "          dataTable['output_type'] = 'display_data';\n",
              "          await google.colab.output.renderOutput(dataTable, element);\n",
              "          const docLink = document.createElement('div');\n",
              "          docLink.innerHTML = docLinkHtml;\n",
              "          element.appendChild(docLink);\n",
              "        }\n",
              "      </script>\n",
              "    </div>\n",
              "  </div>\n",
              "  "
            ]
          },
          "metadata": {},
          "execution_count": 11
        }
      ],
      "source": [
        "#Removing Outliers from columns\n",
        "df_num = df_num[df_num['telecommuting'] < 0.9 ]\n",
        "df_num = df_num[df_num['fraudulent'] < 0.9 ]\n",
        "df_num = df_num[df_num['has_company_logo'] > 0.1 ]\n",
        "df_num"
      ]
    },
    {
      "cell_type": "code",
      "execution_count": 12,
      "id": "35f34562",
      "metadata": {
        "id": "35f34562"
      },
      "outputs": [],
      "source": [
        "df.dropna(axis= 0, how= 'any', inplace=True)\n"
      ]
    },
    {
      "cell_type": "code",
      "execution_count": 13,
      "id": "6ebb94f8",
      "metadata": {
        "colab": {
          "base_uri": "https://localhost:8080/",
          "height": 392
        },
        "id": "6ebb94f8",
        "outputId": "ec60e353-d35c-4e30-cc5f-f1246d07f3f1"
      },
      "outputs": [
        {
          "output_type": "display_data",
          "data": {
            "text/plain": [
              "<Figure size 1800x1440 with 3 Axes>"
            ],
            "image/png": "[encoded data removed]"
          },
          "metadata": {
            "needs_background": "light"
          }
        }
      ],
      "source": [
        "# Plots to see the distribution of the continuous features individually\n",
        "\n",
        "plt.figure(figsize= (25,20))\n",
        "plt.subplot(3,3,1)\n",
        "plt.hist(df.employment_type, color='orange', edgecolor = 'black', alpha = 0.7)\n",
        "plt.xlabel('\\nEmployment type')\n",
        "\n",
        "plt.subplot(3,3,2)\n",
        "plt.hist(df.required_experience, color='lightblue', edgecolor = 'black', alpha = 0.7)\n",
        "plt.xlabel('\\nRequired Experience')\n",
        "\n",
        "plt.subplot(3,3,3)\n",
        "plt.hist(df.fraudulent, color='red', edgecolor = 'black', alpha = 0.7)\n",
        "plt.xlabel('\\nFraud')\n",
        "plt.show()"
      ]
    },
    {
      "cell_type": "code",
      "execution_count": 14,
      "id": "f19cf211",
      "metadata": {
        "colab": {
          "base_uri": "https://localhost:8080/"
        },
        "id": "f19cf211",
        "outputId": "457a5d6b-eba2-4831-d4c8-5a56e4af105e"
      },
      "outputs": [
        {
          "output_type": "execute_result",
          "data": {
            "text/plain": [
              "((580, 3563), (194, 3563), (580,), (194,))"
            ]
          },
          "metadata": {},
          "execution_count": 14
        }
      ],
      "source": [
        "from sklearn.linear_model import LogisticRegression\n",
        "from sklearn.ensemble import RandomForestClassifier\n",
        "from sklearn.model_selection import train_test_split\n",
        "from sklearn.preprocessing import OneHotEncoder\n",
        "from sklearn.compose import ColumnTransformer\n",
        "from sklearn import feature_selection\n",
        "from sklearn.impute import SimpleImputer\n",
        "\n",
        "df['department'] = df['department'].fillna(df['department'].mode()[0])\n",
        "\n",
        "data_cat_imp=SimpleImputer(strategy=\"constant\",fill_value=\"Missing\")\n",
        "cat_imp_feature=[\"title\",\"location\",\"department\",\"salary_range\",\"company_profile\",\"description\",\"requirements\",\"benefits\",\n",
        "                 \"employment_type\",\"required_experience\",\"required_education\",\"industry\",\"function\"]\n",
        "\n",
        "# Filling the Numerical values through existing value\n",
        "data_num_imp=SimpleImputer(strategy=\"constant\",fill_value=None)\n",
        "num_imp_feature =[\"job_id\",\"telecommuting\",\"has_company_logo\",\"has_questions\",\"fraudulent\"]\n",
        "\n",
        "# Transforming into column\n",
        "data_imp_trans=ColumnTransformer([(\"data_cat_imp\",data_cat_imp,cat_imp_feature),\n",
        "                                 (\"data_num_imp\",data_num_imp,num_imp_feature)])\n",
        "\n",
        "# Transforming and assigning the data\n",
        "transformed_data=data_imp_trans.fit_transform(df)\n",
        "transformed_data\n",
        "#Transforming the data into data frame\n",
        "df_job_transformed_data=pd.DataFrame(transformed_data,\n",
        "                         columns=[\"title\",\"location\",\"department\",\"salary_range\",\"company_profile\",\"description\",\n",
        "                                  \"requirements\",\"benefits\", \"employment_type\",\"required_experience\",\"required_education\",\n",
        "                                  \"industry\",\"function\",\"job_id\",\"telecommuting\",\"has_company_logo\",\"has_questions\",\n",
        "                                  \"fraudulent\"])\n",
        "\n",
        "X_trans = df_job_transformed_data.drop(\"fraudulent\",axis=1)\n",
        "y_trans = df_job_transformed_data.fraudulent\n",
        "y_trans=y_trans.astype('int')\n",
        "\n",
        "X_trans.shape, y_trans.shape,X_trans.columns\n",
        "\n",
        "# Instantation of One Hot Encoder for categorical data tarnsformatio into Numeric \n",
        "one_hot=OneHotEncoder()\n",
        "clf_trans=ColumnTransformer([(\"one_hot\",one_hot,cat_imp_feature)],remainder=\"passthrough\")\n",
        "X_trans_fin=clf_trans.fit_transform(X_trans)\n",
        "np.array(X_trans_fin)\n",
        "\n",
        "X_train,X_test,y_train,y_test=train_test_split(X_trans_fin,y_trans,test_size=0.25, random_state=42)\n",
        "X_train.shape,X_test.shape,y_train.shape,y_test.shape"
      ]
    },
    {
      "cell_type": "code",
      "execution_count": 15,
      "id": "fa960cda",
      "metadata": {
        "id": "fa960cda"
      },
      "outputs": [],
      "source": [
        "from sklearn.ensemble import RandomForestClassifier\n",
        "# Random forest\n",
        "model_rfm=RandomForestClassifier(random_state=42)\n",
        "model_rfm.fit(X_train,y_train)\n",
        "y_pred_rfm = model_rfm.predict(X_test)\n",
        "rfc_accuracy = model_rfm.score(X_test, y_test)"
      ]
    },
    {
      "cell_type": "code",
      "execution_count": 16,
      "id": "b0bafb9e",
      "metadata": {
        "colab": {
          "base_uri": "https://localhost:8080/"
        },
        "id": "b0bafb9e",
        "outputId": "795aa6de-081e-4901-b7bd-75c1e2e5dc03"
      },
      "outputs": [
        {
          "output_type": "stream",
          "name": "stdout",
          "text": [
            "Fake Job Random Forest Model Classification  Accuracy : 99.48%\n"
          ]
        }
      ],
      "source": [
        "print(f\"Fake Job Random Forest Model Classification  Accuracy : {rfc_accuracy*100:.2f}%\")\n"
      ]
    },
    {
      "cell_type": "markdown",
      "id": "7341c906",
      "metadata": {
        "id": "7341c906"
      },
      "source": [
        "## How many trees should we use in this Random Forest Algo?\n",
        "## Let's tune this hyperparameter"
      ]
    },
    {
      "cell_type": "code",
      "execution_count": 19,
      "id": "b7d8c3d1",
      "metadata": {
        "colab": {
          "base_uri": "https://localhost:8080/"
        },
        "id": "b7d8c3d1",
        "outputId": "c70e9852-77c4-4060-8179-57a5da2650b0"
      },
      "outputs": [
        {
          "output_type": "stream",
          "name": "stdout",
          "text": [
            "n of trees: 10\n",
            "correct predictions: 98.4536082474227\n",
            "-------------------------------------------------------------------\n",
            "n of trees: 15\n",
            "correct predictions: 98.96907216494846\n",
            "-------------------------------------------------------------------\n",
            "n of trees: 30\n",
            "correct predictions: 98.96907216494846\n",
            "-------------------------------------------------------------------\n",
            "n of trees: 40\n",
            "correct predictions: 98.96907216494846\n",
            "-------------------------------------------------------------------\n",
            "n of trees: 50\n",
            "correct predictions: 99.48453608247422\n",
            "-------------------------------------------------------------------\n"
          ]
        }
      ],
      "source": [
        "n_trees = [10,15,30,40,50]\n",
        "for i in n_trees:\n",
        "    ran_for = RandomForestClassifier(n_estimators=i)\n",
        "    ran_for.fit(X_train,y_train)\n",
        "    pred = ran_for.predict(X_test)\n",
        "    \n",
        "    print('n of trees: {}'.format(i))\n",
        "    #Each time of prediction,the accuracy is measured\n",
        "    correct_pred = 0\n",
        "    for j,k in zip(y_test,pred):\n",
        "        if j == k:\n",
        "            correct_pred += 1\n",
        "    print('correct predictions: {}'.format(correct_pred/len(y_test) *100))\n",
        "    print('-------------------------------------------------------------------')"
      ]
    },
    {
      "cell_type": "markdown",
      "id": "ecff46f0",
      "metadata": {
        "id": "ecff46f0"
      },
      "source": [
        "Adding confusion matrix tells us something As the accuracy score of random forests show, its accuracy score increases as we suspected. However, the score strats to remain constant, and drop at some point. What does this imply? It tells us a number of tree (hyper-parameter) is needed consideration. Higher amount of trees may not the best solution. This is why confusion matries are attached, which give us very useful information. It is not necessary to pick 300 trees, but 50 or 100 tress are acceptable. Why? Obviously, it is hard to tell difference in accuracy score, true positive, false negative, true negative, and false negative.\n",
        "\n"
      ]
    },
    {
      "cell_type": "markdown",
      "id": "3422a24e",
      "metadata": {
        "id": "3422a24e"
      },
      "source": [
        "# The visualisation below shows feature importance of fields in the dataset on the classification"
      ]
    },
    {
      "cell_type": "code",
      "execution_count": 18,
      "id": "13e2ee70",
      "metadata": {
        "colab": {
          "base_uri": "https://localhost:8080/",
          "height": 647
        },
        "id": "13e2ee70",
        "outputId": "3ee4935c-725f-49dc-87d8-7a526f290e24"
      },
      "outputs": [
        {
          "output_type": "stream",
          "name": "stderr",
          "text": [
            "/usr/local/lib/python3.7/dist-packages/ipykernel_launcher.py:5: RuntimeWarning: divide by zero encountered in log\n",
            "  \"\"\"\n"
          ]
        },
        {
          "output_type": "display_data",
          "data": {
            "text/plain": [
              "<Figure size 1296x720 with 1 Axes>"
            ],
            "image/png": "[encoded data removed]"
          },
          "metadata": {
            "needs_background": "light"
          }
        }
      ],
      "source": [
        "feature_dict=dict(zip((df.columns),list(model_rfm.feature_importances_)))\n",
        "\n",
        "log_val = []\n",
        "for i in feature_dict.values():\n",
        "    log_val.append(np.log(i))\n",
        "\n",
        "log_val = np.nan_to_num(log_val, neginf=0)\n",
        "log_val = [i * (-1) for i in log_val]\n",
        "names = list(feature_dict.keys())\n",
        "dictionary = dict(zip(names, log_val))\n",
        "\n",
        "sorted_dict = dict(sorted(dictionary.items(), key=lambda item: item[1], reverse = True))\n",
        "names = []\n",
        "values = []\n",
        "for k, v in sorted_dict.items():\n",
        "    if v != -0.0:\n",
        "        names.append(k)\n",
        "        values.append(v)\n",
        "        \n",
        "plt.figure(figsize = (18, 10))\n",
        "colors = ['#4b5320']\n",
        "plt.barh(range(len(values)), values, tick_label=names, color = colors[0])\n",
        "plt.xticks(rotation=45)\n",
        "plt.title('Feature importance')\n",
        "plt.show()"
      ]
    },
    {
      "cell_type": "markdown",
      "id": "e8a558a4",
      "metadata": {
        "id": "e8a558a4"
      },
      "source": [
        "## Random Forest Algorithm"
      ]
    },
    {
      "cell_type": "markdown",
      "id": "5e5235a1",
      "metadata": {
        "id": "5e5235a1"
      },
      "source": [
        "\n",
        "Random Forest is a well-known machine learning algorithm that uses the supervised learning method. In machine learning, it may be utilized for both classification and regression issues. It is based on ensemble learning, which is a method of integrating several classifiers to solve a complicated issue and increase the model's performance.\n",
        "\n",
        "\"Random Forest is a classifier that contains a number of decision trees on various subsets of a given dataset and takes the average to enhance the predicted accuracy of that dataset,\" according to the name. Instead than depending on a single decision tree, the random forest collects the forecasts from each tree and predicts the final output based on the majority votes of predictions."
      ]
    },
    {
      "cell_type": "code",
      "source": [
        "from sklearn.naive_bayes import  MultinomialNB\n",
        "from sklearn.tree import DecisionTreeClassifier\n",
        "\n",
        "from sklearn.metrics import accuracy_score ,confusion_matrix ,classification_report"
      ],
      "metadata": {
        "id": "zxMKN6B81-gT"
      },
      "id": "zxMKN6B81-gT",
      "execution_count": 20,
      "outputs": []
    },
    {
      "cell_type": "code",
      "source": [
        "nb = MultinomialNB()\n",
        "nb.fit(X_train, y_train)"
      ],
      "metadata": {
        "colab": {
          "base_uri": "https://localhost:8080/"
        },
        "id": "YEq98x3q2RA5",
        "outputId": "fb6d456d-2add-44d1-d5ff-871d969053df"
      },
      "id": "YEq98x3q2RA5",
      "execution_count": 23,
      "outputs": [
        {
          "output_type": "execute_result",
          "data": {
            "text/plain": [
              "MultinomialNB()"
            ]
          },
          "metadata": {},
          "execution_count": 23
        }
      ]
    },
    {
      "cell_type": "code",
      "source": [
        "y_pred_nb = nb.predict(X_test)"
      ],
      "metadata": {
        "id": "PYD99jAD2aJA"
      },
      "id": "PYD99jAD2aJA",
      "execution_count": 24,
      "outputs": []
    },
    {
      "cell_type": "code",
      "source": [
        "accuracy_score(y_test,y_pred_nb)"
      ],
      "metadata": {
        "colab": {
          "base_uri": "https://localhost:8080/"
        },
        "id": "Wp4SCyTd2eXb",
        "outputId": "2151ff37-0bd9-41ba-eb71-0254422a5e15"
      },
      "id": "Wp4SCyTd2eXb",
      "execution_count": 25,
      "outputs": [
        {
          "output_type": "execute_result",
          "data": {
            "text/plain": [
              "0.8865979381443299"
            ]
          },
          "metadata": {},
          "execution_count": 25
        }
      ]
    },
    {
      "cell_type": "code",
      "source": [
        "dt = DecisionTreeClassifier()\n",
        "dt.fit(X_train,y_train)"
      ],
      "metadata": {
        "colab": {
          "base_uri": "https://localhost:8080/"
        },
        "id": "1wBEKQmo2jdU",
        "outputId": "38e92576-419f-4ea1-aae6-075f6c3afc86"
      },
      "id": "1wBEKQmo2jdU",
      "execution_count": 26,
      "outputs": [
        {
          "output_type": "execute_result",
          "data": {
            "text/plain": [
              "DecisionTreeClassifier()"
            ]
          },
          "metadata": {},
          "execution_count": 26
        }
      ]
    },
    {
      "cell_type": "code",
      "source": [
        "y_pred_dt = dt.predict(X_test)"
      ],
      "metadata": {
        "id": "qwdY3kxw2oGr"
      },
      "id": "qwdY3kxw2oGr",
      "execution_count": 27,
      "outputs": []
    },
    {
      "cell_type": "code",
      "source": [
        "accuracy_score(y_test,y_pred_dt)"
      ],
      "metadata": {
        "colab": {
          "base_uri": "https://localhost:8080/"
        },
        "id": "uGUZ0BbD2qL-",
        "outputId": "38d2e4e8-f3c7-4b36-c0d9-67414ef5f2e7"
      },
      "id": "uGUZ0BbD2qL-",
      "execution_count": 28,
      "outputs": [
        {
          "output_type": "execute_result",
          "data": {
            "text/plain": [
              "0.9896907216494846"
            ]
          },
          "metadata": {},
          "execution_count": 28
        }
      ]
    },
    {
      "cell_type": "code",
      "source": [
        "X_test[159]"
      ],
      "metadata": {
        "colab": {
          "base_uri": "https://localhost:8080/"
        },
        "id": "Ki4MmpY-2ucp",
        "outputId": "da3526ca-cefa-491f-b52b-00d40b9b3112"
      },
      "id": "Ki4MmpY-2ucp",
      "execution_count": 29,
      "outputs": [
        {
          "output_type": "execute_result",
          "data": {
            "text/plain": [
              "<1x3563 sparse matrix of type '<class 'numpy.float64'>'\n",
              "\twith 17 stored elements in Compressed Sparse Row format>"
            ]
          },
          "metadata": {},
          "execution_count": 29
        }
      ]
    },
    {
      "cell_type": "code",
      "source": [
        "from sklearn.model_selection import train_test_split\n",
        "from sklearn.neighbors import KNeighborsClassifier\n",
        "from sklearn.model_selection import GridSearchCV\n",
        "from sklearn import metrics\n",
        "import numpy as np"
      ],
      "metadata": {
        "id": "7Bm0GHOK2zvx"
      },
      "id": "7Bm0GHOK2zvx",
      "execution_count": 30,
      "outputs": []
    },
    {
      "cell_type": "code",
      "source": [
        "y=df.fraudulent\n",
        "print(y.head())"
      ],
      "metadata": {
        "colab": {
          "base_uri": "https://localhost:8080/"
        },
        "id": "wcf4uuGr24vj",
        "outputId": "dcf2d487-3553-4978-bfe5-880bba3f6d53"
      },
      "id": "wcf4uuGr24vj",
      "execution_count": 32,
      "outputs": [
        {
          "output_type": "stream",
          "name": "stdout",
          "text": [
            "6      0\n",
            "15     0\n",
            "23     0\n",
            "98     1\n",
            "102    0\n",
            "Name: fraudulent, dtype: int64\n"
          ]
        }
      ]
    },
    {
      "cell_type": "code",
      "source": [
        "X=df.drop('fraudulent',1)\n",
        "print(X.head())"
      ],
      "metadata": {
        "colab": {
          "base_uri": "https://localhost:8080/"
        },
        "id": "J7c-pKC83Aji",
        "outputId": "170a5149-f41c-45a3-b11b-fd88e19aa591"
      },
      "id": "J7c-pKC83Aji",
      "execution_count": 33,
      "outputs": [
        {
          "output_type": "stream",
          "name": "stdout",
          "text": [
            "     job_id                                              title  \\\n",
            "6         7                              Head of Content (m/f)   \n",
            "15       16                         VP of Sales - Vault Dragon   \n",
            "23       24  Vice President, Sales and Sponsorship (Busines...   \n",
            "98       99                                    IC&E Technician   \n",
            "102     103                            Marketing Administrator   \n",
            "\n",
            "              location          department   salary_range  \\\n",
            "6       DE, BE, Berlin          ANDROIDPIT    20000-28000   \n",
            "15   SG, 01, Singapore               Sales  120000-150000   \n",
            "23    US, CA, Carlsbad  Businessfriend.com  100000-120000   \n",
            "98   US, , Stocton, CA        Oil & Energy   95000-115000   \n",
            "102  GB, WAR, Coventry         Marketplace    15000-18000   \n",
            "\n",
            "                                       company_profile  \\\n",
            "6    Founded in 2009, the Fonpit AG rose with its i...   \n",
            "15   Jungle Ventures is the leading Singapore based...   \n",
            "23   WDM Group is an innovative, forward thinking d...   \n",
            "98                                                 ...   \n",
            "102  Renewable Energy and Environmental Protection ...   \n",
            "\n",
            "                                           description  \\\n",
            "6    Your Responsibilities: Manage the English-spea...   \n",
            "15   About Vault Dragon Vault Dragon is Dropbox for...   \n",
            "23   #URL_eda2500ddcedb60957fcd7f5b164e092966f8c4e8...   \n",
            "98   IC&amp;E Technician | Bakersfield, CA Mt. Poso...   \n",
            "102  The job is to support the growth of the #URL_9...   \n",
            "\n",
            "                                          requirements  \\\n",
            "6    Your Know-How:                                ...   \n",
            "15   Key Superpowers3-5 years of high-pressure sale...   \n",
            "23   Job Requirements:A reputation as a \"go-getter\"...   \n",
            "98   QualificationsKnowledge, Skills &amp; Abilitie...   \n",
            "102  Computer literateAble to work with HTML, altho...   \n",
            "\n",
            "                                              benefits  telecommuting  \\\n",
            "6    Your Benefits: Being part of a fast-growing co...              0   \n",
            "15   Basic: SGD 120,000Equity negotiable for a rock...              0   \n",
            "23   Businessfriend will offer a competitive six fi...              0   \n",
            "98   BENEFITSWhat is offered:Competitive compensati...              0   \n",
            "102  For a suitably motivated and success orientate...              1   \n",
            "\n",
            "     has_company_logo  has_questions employment_type required_experience  \\\n",
            "6                   1              1       Full-time    Mid-Senior level   \n",
            "15                  1              1       Full-time           Executive   \n",
            "23                  1              0       Full-time           Executive   \n",
            "98                  1              1       Full-time    Mid-Senior level   \n",
            "102                 1              0       Full-time         Entry level   \n",
            "\n",
            "            required_education             industry    function  \n",
            "6              Master's Degree         Online Media  Management  \n",
            "15           Bachelor's Degree  Facilities Services       Sales  \n",
            "23                 Unspecified             Internet       Sales  \n",
            "98   High School or equivalent         Oil & Energy       Other  \n",
            "102          Bachelor's Degree             Internet   Marketing  \n"
          ]
        },
        {
          "output_type": "stream",
          "name": "stderr",
          "text": [
            "/usr/local/lib/python3.7/dist-packages/ipykernel_launcher.py:1: FutureWarning: In a future version of pandas all arguments of DataFrame.drop except for the argument 'labels' will be keyword-only\n",
            "  \"\"\"Entry point for launching an IPython kernel.\n"
          ]
        }
      ]
    },
    {
      "cell_type": "code",
      "source": [
        "X_train, X_test, y_train, y_test = train_test_split( X, y, test_size=0.3, random_state=4)\n",
        "print ('Train set:', X_train.shape,  y_train.shape)\n",
        "print ('Test set:', X_test.shape,  y_test.shape)"
      ],
      "metadata": {
        "colab": {
          "base_uri": "https://localhost:8080/"
        },
        "id": "KF6Q5Ma63DpK",
        "outputId": "b655e10b-39d2-4663-c160-0cfbab13eeac"
      },
      "id": "KF6Q5Ma63DpK",
      "execution_count": 34,
      "outputs": [
        {
          "output_type": "stream",
          "name": "stdout",
          "text": [
            "Train set: (541, 17) (541,)\n",
            "Test set: (233, 17) (233,)\n"
          ]
        }
      ]
    },
    {
      "cell_type": "code",
      "source": [
        "input_text = ['general laborers us, ct, hartford elite environmental group llc. provides staffing services temporary employment opportunities wide range clients, business owners search employees, candidates search employment environmental, construction industry. elite environmental group currently hiring general laborers, construction, housekeeping, manufacturing associates temporary temporary hire positions, paying $9.00 - $13.00 per hour. you’re dependable looking work, contact elite environmental group today. job descriptionconstruction erect dismantle scaffolding, shoring, braces, traffic barricades, ramps, temporary structuresmanufacturing associate receive count stock items, record data manually using computer.general labor clean prepare construction sites eliminate possible hazards.pack unpack items stocked shelves stockrooms, warehouses, storage yards.housekeeper clean guest rooms common areasmark stock items using identification tags, stamps, electric marking tools, labeling equipment. ideal candidatesrelevant experience preferredreliable transportationcommitted safety timesexcellent attendance']"
      ],
      "metadata": {
        "id": "cFhAUKA53HRd"
      },
      "id": "cFhAUKA53HRd",
      "execution_count": 35,
      "outputs": []
    },
    {
      "cell_type": "code",
      "source": [
        "from sklearn.feature_extraction.text import CountVectorizer"
      ],
      "metadata": {
        "id": "b9AjiS1w3eTL"
      },
      "id": "b9AjiS1w3eTL",
      "execution_count": 36,
      "outputs": []
    },
    {
      "cell_type": "code",
      "source": [
        "vect = CountVectorizer()\n",
        "vect.fit(X_train)"
      ],
      "metadata": {
        "colab": {
          "base_uri": "https://localhost:8080/"
        },
        "id": "EtxwAv6o3hQa",
        "outputId": "76d6b5bc-be49-4165-ee23-f1c707bca7fd"
      },
      "id": "EtxwAv6o3hQa",
      "execution_count": 37,
      "outputs": [
        {
          "output_type": "execute_result",
          "data": {
            "text/plain": [
              "CountVectorizer()"
            ]
          },
          "metadata": {},
          "execution_count": 37
        }
      ]
    },
    {
      "cell_type": "code",
      "source": [
        "X_train_dtm = vect.transform(X_train)"
      ],
      "metadata": {
        "id": "3rGBbb4k3idg"
      },
      "id": "3rGBbb4k3idg",
      "execution_count": 38,
      "outputs": []
    },
    {
      "cell_type": "code",
      "source": [
        "df.title.value_counts()[:11]"
      ],
      "metadata": {
        "colab": {
          "base_uri": "https://localhost:8080/"
        },
        "id": "mLq3S42P45p-",
        "outputId": "7a9a070f-1a82-4b25-958e-ee50de749d08"
      },
      "id": "mLq3S42P45p-",
      "execution_count": 44,
      "outputs": [
        {
          "output_type": "execute_result",
          "data": {
            "text/plain": [
              "Customer Service Representative                                  18\n",
              "Systems Engineers/Network Administrators/Tiers I-III              8\n",
              "Technical Support Associate                                       7\n",
              "Sales Representative                                              7\n",
              "Sales, Assistant Manager & Market Manager Positions Available     7\n",
              "Sales Executive                                                   6\n",
              "Marketing Manager                                                 5\n",
              "Graduate Summer Work Program -- Limited Openings -- Apply Now     5\n",
              "Marketing Associate                                               5\n",
              "Systems Engineer                                                  5\n",
              "Van Foreman / Driver - Class A                                    4\n",
              "Name: title, dtype: int64"
            ]
          },
          "metadata": {},
          "execution_count": 44
        }
      ]
    },
    {
      "cell_type": "code",
      "source": [
        "df[df.fraudulent == 1].title.value_counts()[:11]"
      ],
      "metadata": {
        "colab": {
          "base_uri": "https://localhost:8080/"
        },
        "id": "ZwftnSEW4-a6",
        "outputId": "42ac6bf8-d158-4149-b558-04863207299f"
      },
      "id": "ZwftnSEW4-a6",
      "execution_count": 45,
      "outputs": [
        {
          "output_type": "execute_result",
          "data": {
            "text/plain": [
              "Customer Service Representative    11\n",
              "Call Center Representative I        4\n",
              "Sales Representative                3\n",
              "IC&E Technician                     2\n",
              "Sales Professional- Mid Market      2\n",
              "UST Testing Technician III          2\n",
              "Credit and Collections Clerk        2\n",
              "Payroll Clerk                       2\n",
              "CALL CENTER REP                     2\n",
              "Plant Operator                      2\n",
              "Health + Safety Professional        2\n",
              "Name: title, dtype: int64"
            ]
          },
          "metadata": {},
          "execution_count": 45
        }
      ]
    },
    {
      "cell_type": "code",
      "source": [
        "df[df.fraudulent == 0].title.value_counts()[:11]"
      ],
      "metadata": {
        "colab": {
          "base_uri": "https://localhost:8080/"
        },
        "id": "fKbz5pQg5Cvq",
        "outputId": "6320c4bc-1d2f-4251-e948-1d93532b2b17"
      },
      "id": "fKbz5pQg5Cvq",
      "execution_count": 46,
      "outputs": [
        {
          "output_type": "execute_result",
          "data": {
            "text/plain": [
              "Systems Engineers/Network Administrators/Tiers I-III             8\n",
              "Technical Support Associate                                      7\n",
              "Sales, Assistant Manager & Market Manager Positions Available    7\n",
              "Customer Service Representative                                  7\n",
              "Sales Executive                                                  6\n",
              "Marketing Associate                                              5\n",
              "Graduate Summer Work Program -- Limited Openings -- Apply Now    5\n",
              "Systems Engineer                                                 5\n",
              "Marketing Manager                                                5\n",
              "Van Foreman / Driver - Class A                                   4\n",
              "Sales Representative                                             4\n",
              "Name: title, dtype: int64"
            ]
          },
          "metadata": {},
          "execution_count": 46
        }
      ]
    },
    {
      "cell_type": "code",
      "source": [
        "df.columns"
      ],
      "metadata": {
        "colab": {
          "base_uri": "https://localhost:8080/"
        },
        "id": "WUelwnRG5HXm",
        "outputId": "2e481125-1883-46d9-b6ea-04fa3ef9601c"
      },
      "id": "WUelwnRG5HXm",
      "execution_count": 47,
      "outputs": [
        {
          "output_type": "execute_result",
          "data": {
            "text/plain": [
              "Index(['job_id', 'title', 'location', 'department', 'salary_range',\n",
              "       'company_profile', 'description', 'requirements', 'benefits',\n",
              "       'telecommuting', 'has_company_logo', 'has_questions', 'employment_type',\n",
              "       'required_experience', 'required_education', 'industry', 'function',\n",
              "       'fraudulent'],\n",
              "      dtype='object')"
            ]
          },
          "metadata": {},
          "execution_count": 47
        }
      ]
    },
    {
      "cell_type": "code",
      "source": [
        "df['text'] = df['title'] + ' '+ df['location'] + ' ' + df['department'] + ' ' + df['company_profile'] + ' '+ df['description'] + ' ' + df['requirements'] + ' ' + df['benefits'] + ' ' + df['industry']\n",
        "\n",
        "del df['title']\n",
        "del df['location']\n",
        "del df['department']\n",
        "del df['company_profile']\n",
        "del df['description']\n",
        "del df['requirements']\n",
        "del df['benefits']\n",
        "del df['employment_type']\n",
        "del df['required_experience']\n",
        "del df['required_education']\n",
        "del df['industry']\n",
        "del df['function']\n"
      ],
      "metadata": {
        "colab": {
          "base_uri": "https://localhost:8080/",
          "height": 480
        },
        "id": "EOUYqixS5JbF",
        "outputId": "2b50e4c6-84a2-4187-bb08-06afe8e56400"
      },
      "id": "EOUYqixS5JbF",
      "execution_count": 50,
      "outputs": [
        {
          "output_type": "error",
          "ename": "KeyError",
          "evalue": "ignored",
          "traceback": [
            "\u001b[0;31m---------------------------------------------------------------------------\u001b[0m",
            "\u001b[0;31mKeyError\u001b[0m                                  Traceback (most recent call last)",
            "\u001b[0;32m/usr/local/lib/python3.7/dist-packages/pandas/core/indexes/base.py\u001b[0m in \u001b[0;36mget_loc\u001b[0;34m(self, key, method, tolerance)\u001b[0m\n\u001b[1;32m   3360\u001b[0m             \u001b[0;32mtry\u001b[0m\u001b[0;34m:\u001b[0m\u001b[0;34m\u001b[0m\u001b[0;34m\u001b[0m\u001b[0m\n\u001b[0;32m-> 3361\u001b[0;31m                 \u001b[0;32mreturn\u001b[0m \u001b[0mself\u001b[0m\u001b[0;34m.\u001b[0m\u001b[0m_engine\u001b[0m\u001b[0;34m.\u001b[0m\u001b[0mget_loc\u001b[0m\u001b[0;34m(\u001b[0m\u001b[0mcasted_key\u001b[0m\u001b[0;34m)\u001b[0m\u001b[0;34m\u001b[0m\u001b[0;34m\u001b[0m\u001b[0m\n\u001b[0m\u001b[1;32m   3362\u001b[0m             \u001b[0;32mexcept\u001b[0m \u001b[0mKeyError\u001b[0m \u001b[0;32mas\u001b[0m \u001b[0merr\u001b[0m\u001b[0;34m:\u001b[0m\u001b[0;34m\u001b[0m\u001b[0;34m\u001b[0m\u001b[0m\n",
            "\u001b[0;32m/usr/local/lib/python3.7/dist-packages/pandas/_libs/index.pyx\u001b[0m in \u001b[0;36mpandas._libs.index.IndexEngine.get_loc\u001b[0;34m()\u001b[0m\n",
            "\u001b[0;32m/usr/local/lib/python3.7/dist-packages/pandas/_libs/index.pyx\u001b[0m in \u001b[0;36mpandas._libs.index.IndexEngine.get_loc\u001b[0;34m()\u001b[0m\n",
            "\u001b[0;32mpandas/_libs/hashtable_class_helper.pxi\u001b[0m in \u001b[0;36mpandas._libs.hashtable.PyObjectHashTable.get_item\u001b[0;34m()\u001b[0m\n",
            "\u001b[0;32mpandas/_libs/hashtable_class_helper.pxi\u001b[0m in \u001b[0;36mpandas._libs.hashtable.PyObjectHashTable.get_item\u001b[0;34m()\u001b[0m\n",
            "\u001b[0;31mKeyError\u001b[0m: 'title'",
            "\nThe above exception was the direct cause of the following exception:\n",
            "\u001b[0;31mKeyError\u001b[0m                                  Traceback (most recent call last)",
            "\u001b[0;32m<ipython-input-50-cbb304cc2eef>\u001b[0m in \u001b[0;36m<module>\u001b[0;34m()\u001b[0m\n\u001b[0;32m----> 1\u001b[0;31m \u001b[0mdf\u001b[0m\u001b[0;34m[\u001b[0m\u001b[0;34m'text'\u001b[0m\u001b[0;34m]\u001b[0m \u001b[0;34m=\u001b[0m \u001b[0mdf\u001b[0m\u001b[0;34m[\u001b[0m\u001b[0;34m'title'\u001b[0m\u001b[0;34m]\u001b[0m \u001b[0;34m+\u001b[0m \u001b[0;34m' '\u001b[0m\u001b[0;34m+\u001b[0m \u001b[0mdf\u001b[0m\u001b[0;34m[\u001b[0m\u001b[0;34m'location'\u001b[0m\u001b[0;34m]\u001b[0m \u001b[0;34m+\u001b[0m \u001b[0;34m' '\u001b[0m \u001b[0;34m+\u001b[0m \u001b[0mdf\u001b[0m\u001b[0;34m[\u001b[0m\u001b[0;34m'department'\u001b[0m\u001b[0;34m]\u001b[0m \u001b[0;34m+\u001b[0m \u001b[0;34m' '\u001b[0m \u001b[0;34m+\u001b[0m \u001b[0mdf\u001b[0m\u001b[0;34m[\u001b[0m\u001b[0;34m'company_profile'\u001b[0m\u001b[0;34m]\u001b[0m \u001b[0;34m+\u001b[0m \u001b[0;34m' '\u001b[0m\u001b[0;34m+\u001b[0m \u001b[0mdf\u001b[0m\u001b[0;34m[\u001b[0m\u001b[0;34m'description'\u001b[0m\u001b[0;34m]\u001b[0m \u001b[0;34m+\u001b[0m \u001b[0;34m' '\u001b[0m \u001b[0;34m+\u001b[0m \u001b[0mdf\u001b[0m\u001b[0;34m[\u001b[0m\u001b[0;34m'requirements'\u001b[0m\u001b[0;34m]\u001b[0m \u001b[0;34m+\u001b[0m \u001b[0;34m' '\u001b[0m \u001b[0;34m+\u001b[0m \u001b[0mdf\u001b[0m\u001b[0;34m[\u001b[0m\u001b[0;34m'benefits'\u001b[0m\u001b[0;34m]\u001b[0m \u001b[0;34m+\u001b[0m \u001b[0;34m' '\u001b[0m \u001b[0;34m+\u001b[0m \u001b[0mdf\u001b[0m\u001b[0;34m[\u001b[0m\u001b[0;34m'industry'\u001b[0m\u001b[0;34m]\u001b[0m\u001b[0;34m\u001b[0m\u001b[0;34m\u001b[0m\u001b[0m\n\u001b[0m\u001b[1;32m      2\u001b[0m \u001b[0;34m\u001b[0m\u001b[0m\n\u001b[1;32m      3\u001b[0m \u001b[0;32mdel\u001b[0m \u001b[0mdf\u001b[0m\u001b[0;34m[\u001b[0m\u001b[0;34m'title'\u001b[0m\u001b[0;34m]\u001b[0m\u001b[0;34m\u001b[0m\u001b[0;34m\u001b[0m\u001b[0m\n\u001b[1;32m      4\u001b[0m \u001b[0;32mdel\u001b[0m \u001b[0mdf\u001b[0m\u001b[0;34m[\u001b[0m\u001b[0;34m'location'\u001b[0m\u001b[0;34m]\u001b[0m\u001b[0;34m\u001b[0m\u001b[0;34m\u001b[0m\u001b[0m\n\u001b[1;32m      5\u001b[0m \u001b[0;32mdel\u001b[0m \u001b[0mdf\u001b[0m\u001b[0;34m[\u001b[0m\u001b[0;34m'department'\u001b[0m\u001b[0;34m]\u001b[0m\u001b[0;34m\u001b[0m\u001b[0;34m\u001b[0m\u001b[0m\n",
            "\u001b[0;32m/usr/local/lib/python3.7/dist-packages/pandas/core/frame.py\u001b[0m in \u001b[0;36m__getitem__\u001b[0;34m(self, key)\u001b[0m\n\u001b[1;32m   3456\u001b[0m             \u001b[0;32mif\u001b[0m \u001b[0mself\u001b[0m\u001b[0;34m.\u001b[0m\u001b[0mcolumns\u001b[0m\u001b[0;34m.\u001b[0m\u001b[0mnlevels\u001b[0m \u001b[0;34m>\u001b[0m \u001b[0;36m1\u001b[0m\u001b[0;34m:\u001b[0m\u001b[0;34m\u001b[0m\u001b[0;34m\u001b[0m\u001b[0m\n\u001b[1;32m   3457\u001b[0m                 \u001b[0;32mreturn\u001b[0m \u001b[0mself\u001b[0m\u001b[0;34m.\u001b[0m\u001b[0m_getitem_multilevel\u001b[0m\u001b[0;34m(\u001b[0m\u001b[0mkey\u001b[0m\u001b[0;34m)\u001b[0m\u001b[0;34m\u001b[0m\u001b[0;34m\u001b[0m\u001b[0m\n\u001b[0;32m-> 3458\u001b[0;31m             \u001b[0mindexer\u001b[0m \u001b[0;34m=\u001b[0m \u001b[0mself\u001b[0m\u001b[0;34m.\u001b[0m\u001b[0mcolumns\u001b[0m\u001b[0;34m.\u001b[0m\u001b[0mget_loc\u001b[0m\u001b[0;34m(\u001b[0m\u001b[0mkey\u001b[0m\u001b[0;34m)\u001b[0m\u001b[0;34m\u001b[0m\u001b[0;34m\u001b[0m\u001b[0m\n\u001b[0m\u001b[1;32m   3459\u001b[0m             \u001b[0;32mif\u001b[0m \u001b[0mis_integer\u001b[0m\u001b[0;34m(\u001b[0m\u001b[0mindexer\u001b[0m\u001b[0;34m)\u001b[0m\u001b[0;34m:\u001b[0m\u001b[0;34m\u001b[0m\u001b[0;34m\u001b[0m\u001b[0m\n\u001b[1;32m   3460\u001b[0m                 \u001b[0mindexer\u001b[0m \u001b[0;34m=\u001b[0m \u001b[0;34m[\u001b[0m\u001b[0mindexer\u001b[0m\u001b[0;34m]\u001b[0m\u001b[0;34m\u001b[0m\u001b[0;34m\u001b[0m\u001b[0m\n",
            "\u001b[0;32m/usr/local/lib/python3.7/dist-packages/pandas/core/indexes/base.py\u001b[0m in \u001b[0;36mget_loc\u001b[0;34m(self, key, method, tolerance)\u001b[0m\n\u001b[1;32m   3361\u001b[0m                 \u001b[0;32mreturn\u001b[0m \u001b[0mself\u001b[0m\u001b[0;34m.\u001b[0m\u001b[0m_engine\u001b[0m\u001b[0;34m.\u001b[0m\u001b[0mget_loc\u001b[0m\u001b[0;34m(\u001b[0m\u001b[0mcasted_key\u001b[0m\u001b[0;34m)\u001b[0m\u001b[0;34m\u001b[0m\u001b[0;34m\u001b[0m\u001b[0m\n\u001b[1;32m   3362\u001b[0m             \u001b[0;32mexcept\u001b[0m \u001b[0mKeyError\u001b[0m \u001b[0;32mas\u001b[0m \u001b[0merr\u001b[0m\u001b[0;34m:\u001b[0m\u001b[0;34m\u001b[0m\u001b[0;34m\u001b[0m\u001b[0m\n\u001b[0;32m-> 3363\u001b[0;31m                 \u001b[0;32mraise\u001b[0m \u001b[0mKeyError\u001b[0m\u001b[0;34m(\u001b[0m\u001b[0mkey\u001b[0m\u001b[0;34m)\u001b[0m \u001b[0;32mfrom\u001b[0m \u001b[0merr\u001b[0m\u001b[0;34m\u001b[0m\u001b[0;34m\u001b[0m\u001b[0m\n\u001b[0m\u001b[1;32m   3364\u001b[0m \u001b[0;34m\u001b[0m\u001b[0m\n\u001b[1;32m   3365\u001b[0m         \u001b[0;32mif\u001b[0m \u001b[0mis_scalar\u001b[0m\u001b[0;34m(\u001b[0m\u001b[0mkey\u001b[0m\u001b[0;34m)\u001b[0m \u001b[0;32mand\u001b[0m \u001b[0misna\u001b[0m\u001b[0;34m(\u001b[0m\u001b[0mkey\u001b[0m\u001b[0;34m)\u001b[0m \u001b[0;32mand\u001b[0m \u001b[0;32mnot\u001b[0m \u001b[0mself\u001b[0m\u001b[0;34m.\u001b[0m\u001b[0mhasnans\u001b[0m\u001b[0;34m:\u001b[0m\u001b[0;34m\u001b[0m\u001b[0;34m\u001b[0m\u001b[0m\n",
            "\u001b[0;31mKeyError\u001b[0m: 'title'"
          ]
        }
      ]
    },
    {
      "cell_type": "code",
      "source": [
        "df.head()"
      ],
      "metadata": {
        "colab": {
          "base_uri": "https://localhost:8080/",
          "height": 201
        },
        "id": "Grj9PlPb5qtG",
        "outputId": "b2c2ec10-67af-4cc0-87ff-9a6e379a2e4a"
      },
      "id": "Grj9PlPb5qtG",
      "execution_count": 51,
      "outputs": [
        {
          "output_type": "execute_result",
          "data": {
            "text/plain": [
              "     job_id   salary_range  telecommuting  has_company_logo  has_questions  \\\n",
              "6         7    20000-28000              0                 1              1   \n",
              "15       16  120000-150000              0                 1              1   \n",
              "23       24  100000-120000              0                 1              0   \n",
              "98       99   95000-115000              0                 1              1   \n",
              "102     103    15000-18000              1                 1              0   \n",
              "\n",
              "     fraudulent                                               text  \n",
              "6             0  Head of Content (m/f) DE, BE, Berlin ANDROIDPI...  \n",
              "15            0  VP of Sales - Vault Dragon SG, 01, Singapore S...  \n",
              "23            0  Vice President, Sales and Sponsorship (Busines...  \n",
              "98            1  IC&E Technician US, , Stocton, CA Oil & Energy...  \n",
              "102           0  Marketing Administrator GB, WAR, Coventry Mark...  "
            ],
            "text/html": [
              "\n",
              "  <div id=\"df-f31ea4a6-d563-4819-8d17-ad33cb7f2ac5\">\n",
              "    <div class=\"colab-df-container\">\n",
              "      <div>\n",
              "<style scoped>\n",
              "    .dataframe tbody tr th:only-of-type {\n",
              "        vertical-align: middle;\n",
              "    }\n",
              "\n",
              "    .dataframe tbody tr th {\n",
              "        vertical-align: top;\n",
              "    }\n",
              "\n",
              "    .dataframe thead th {\n",
              "        text-align: right;\n",
              "    }\n",
              "</style>\n",
              "<table border=\"1\" class=\"dataframe\">\n",
              "  <thead>\n",
              "    <tr style=\"text-align: right;\">\n",
              "      <th></th>\n",
              "      <th>job_id</th>\n",
              "      <th>salary_range</th>\n",
              "      <th>telecommuting</th>\n",
              "      <th>has_company_logo</th>\n",
              "      <th>has_questions</th>\n",
              "      <th>fraudulent</th>\n",
              "      <th>text</th>\n",
              "    </tr>\n",
              "  </thead>\n",
              "  <tbody>\n",
              "    <tr>\n",
              "      <th>6</th>\n",
              "      <td>7</td>\n",
              "      <td>20000-28000</td>\n",
              "      <td>0</td>\n",
              "      <td>1</td>\n",
              "      <td>1</td>\n",
              "      <td>0</td>\n",
              "      <td>Head of Content (m/f) DE, BE, Berlin ANDROIDPI...</td>\n",
              "    </tr>\n",
              "    <tr>\n",
              "      <th>15</th>\n",
              "      <td>16</td>\n",
              "      <td>120000-150000</td>\n",
              "      <td>0</td>\n",
              "      <td>1</td>\n",
              "      <td>1</td>\n",
              "      <td>0</td>\n",
              "      <td>VP of Sales - Vault Dragon SG, 01, Singapore S...</td>\n",
              "    </tr>\n",
              "    <tr>\n",
              "      <th>23</th>\n",
              "      <td>24</td>\n",
              "      <td>100000-120000</td>\n",
              "      <td>0</td>\n",
              "      <td>1</td>\n",
              "      <td>0</td>\n",
              "      <td>0</td>\n",
              "      <td>Vice President, Sales and Sponsorship (Busines...</td>\n",
              "    </tr>\n",
              "    <tr>\n",
              "      <th>98</th>\n",
              "      <td>99</td>\n",
              "      <td>95000-115000</td>\n",
              "      <td>0</td>\n",
              "      <td>1</td>\n",
              "      <td>1</td>\n",
              "      <td>1</td>\n",
              "      <td>IC&amp;E Technician US, , Stocton, CA Oil &amp; Energy...</td>\n",
              "    </tr>\n",
              "    <tr>\n",
              "      <th>102</th>\n",
              "      <td>103</td>\n",
              "      <td>15000-18000</td>\n",
              "      <td>1</td>\n",
              "      <td>1</td>\n",
              "      <td>0</td>\n",
              "      <td>0</td>\n",
              "      <td>Marketing Administrator GB, WAR, Coventry Mark...</td>\n",
              "    </tr>\n",
              "  </tbody>\n",
              "</table>\n",
              "</div>\n",
              "      <button class=\"colab-df-convert\" onclick=\"convertToInteractive('df-f31ea4a6-d563-4819-8d17-ad33cb7f2ac5')\"\n",
              "              title=\"Convert this dataframe to an interactive table.\"\n",
              "              style=\"display:none;\">\n",
              "        \n",
              "  <svg xmlns=\"http://www.w3.org/2000/svg\" height=\"24px\"viewBox=\"0 0 24 24\"\n",
              "       width=\"24px\">\n",
              "    <path d=\"M0 0h24v24H0V0z\" fill=\"none\"/>\n",
              "    <path d=\"M18.56 5.44l.94 2.06.94-2.06 2.06-.94-2.06-.94-.94-2.06-.94 2.06-2.06.94zm-11 1L8.5 8.5l.94-2.06 2.06-.94-2.06-.94L8.5 2.5l-.94 2.06-2.06.94zm10 10l.94 2.06.94-2.06 2.06-.94-2.06-.94-.94-2.06-.94 2.06-2.06.94z\"/><path d=\"M17.41 7.96l-1.37-1.37c-.4-.4-.92-.59-1.43-.59-.52 0-1.04.2-1.43.59L10.3 9.45l-7.72 7.72c-.78.78-.78 2.05 0 2.83L4 21.41c.39.39.9.59 1.41.59.51 0 1.02-.2 1.41-.59l7.78-7.78 2.81-2.81c.8-.78.8-2.07 0-2.86zM5.41 20L4 18.59l7.72-7.72 1.47 1.35L5.41 20z\"/>\n",
              "  </svg>\n",
              "      </button>\n",
              "      \n",
              "  <style>\n",
              "    .colab-df-container {\n",
              "      display:flex;\n",
              "      flex-wrap:wrap;\n",
              "      gap: 12px;\n",
              "    }\n",
              "\n",
              "    .colab-df-convert {\n",
              "      background-color: #E8F0FE;\n",
              "      border: none;\n",
              "      border-radius: 50%;\n",
              "      cursor: pointer;\n",
              "      display: none;\n",
              "      fill: #1967D2;\n",
              "      height: 32px;\n",
              "      padding: 0 0 0 0;\n",
              "      width: 32px;\n",
              "    }\n",
              "\n",
              "    .colab-df-convert:hover {\n",
              "      background-color: #E2EBFA;\n",
              "      box-shadow: 0px 1px 2px rgba(60, 64, 67, 0.3), 0px 1px 3px 1px rgba(60, 64, 67, 0.15);\n",
              "      fill: #174EA6;\n",
              "    }\n",
              "\n",
              "    [theme=dark] .colab-df-convert {\n",
              "      background-color: #3B4455;\n",
              "      fill: #D2E3FC;\n",
              "    }\n",
              "\n",
              "    [theme=dark] .colab-df-convert:hover {\n",
              "      background-color: #434B5C;\n",
              "      box-shadow: 0px 1px 3px 1px rgba(0, 0, 0, 0.15);\n",
              "      filter: drop-shadow(0px 1px 2px rgba(0, 0, 0, 0.3));\n",
              "      fill: #FFFFFF;\n",
              "    }\n",
              "  </style>\n",
              "\n",
              "      <script>\n",
              "        const buttonEl =\n",
              "          document.querySelector('#df-f31ea4a6-d563-4819-8d17-ad33cb7f2ac5 button.colab-df-convert');\n",
              "        buttonEl.style.display =\n",
              "          google.colab.kernel.accessAllowed ? 'block' : 'none';\n",
              "\n",
              "        async function convertToInteractive(key) {\n",
              "          const element = document.querySelector('#df-f31ea4a6-d563-4819-8d17-ad33cb7f2ac5');\n",
              "          const dataTable =\n",
              "            await google.colab.kernel.invokeFunction('convertToInteractive',\n",
              "                                                     [key], {});\n",
              "          if (!dataTable) return;\n",
              "\n",
              "          const docLinkHtml = 'Like what you see? Visit the ' +\n",
              "            '<a target=\"_blank\" href=https://colab.research.google.com/notebooks/data_table.ipynb>data table notebook</a>'\n",
              "            + ' to learn more about interactive tables.';\n",
              "          element.innerHTML = '';\n",
              "          dataTable['output_type'] = 'display_data';\n",
              "          await google.colab.output.renderOutput(dataTable, element);\n",
              "          const docLink = document.createElement('div');\n",
              "          docLink.innerHTML = docLinkHtml;\n",
              "          element.appendChild(docLink);\n",
              "        }\n",
              "      </script>\n",
              "    </div>\n",
              "  </div>\n",
              "  "
            ]
          },
          "metadata": {},
          "execution_count": 51
        }
      ]
    },
    {
      "cell_type": "code",
      "source": [
        "import nltk\n",
        "nltk.download('stopwords')\n",
        "\n",
        "from nltk.corpus import stopwords"
      ],
      "metadata": {
        "colab": {
          "base_uri": "https://localhost:8080/"
        },
        "id": "9WBfY9PS6Apw",
        "outputId": "dba62061-3541-4ef0-caff-367f58ce4e2b"
      },
      "id": "9WBfY9PS6Apw",
      "execution_count": 52,
      "outputs": [
        {
          "output_type": "stream",
          "name": "stdout",
          "text": [
            "[nltk_data] Downloading package stopwords to /root/nltk_data...\n",
            "[nltk_data]   Unzipping corpora/stopwords.zip.\n"
          ]
        }
      ]
    },
    {
      "cell_type": "code",
      "source": [
        "print(stopwords.words(\"english\"))"
      ],
      "metadata": {
        "colab": {
          "base_uri": "https://localhost:8080/"
        },
        "id": "7v6scmEv6Dxo",
        "outputId": "562c3bc7-26ff-4619-d868-277f4c59c71b"
      },
      "id": "7v6scmEv6Dxo",
      "execution_count": 53,
      "outputs": [
        {
          "output_type": "stream",
          "name": "stdout",
          "text": [
            "['i', 'me', 'my', 'myself', 'we', 'our', 'ours', 'ourselves', 'you', \"you're\", \"you've\", \"you'll\", \"you'd\", 'your', 'yours', 'yourself', 'yourselves', 'he', 'him', 'his', 'himself', 'she', \"she's\", 'her', 'hers', 'herself', 'it', \"it's\", 'its', 'itself', 'they', 'them', 'their', 'theirs', 'themselves', 'what', 'which', 'who', 'whom', 'this', 'that', \"that'll\", 'these', 'those', 'am', 'is', 'are', 'was', 'were', 'be', 'been', 'being', 'have', 'has', 'had', 'having', 'do', 'does', 'did', 'doing', 'a', 'an', 'the', 'and', 'but', 'if', 'or', 'because', 'as', 'until', 'while', 'of', 'at', 'by', 'for', 'with', 'about', 'against', 'between', 'into', 'through', 'during', 'before', 'after', 'above', 'below', 'to', 'from', 'up', 'down', 'in', 'out', 'on', 'off', 'over', 'under', 'again', 'further', 'then', 'once', 'here', 'there', 'when', 'where', 'why', 'how', 'all', 'any', 'both', 'each', 'few', 'more', 'most', 'other', 'some', 'such', 'no', 'nor', 'not', 'only', 'own', 'same', 'so', 'than', 'too', 'very', 's', 't', 'can', 'will', 'just', 'don', \"don't\", 'should', \"should've\", 'now', 'd', 'll', 'm', 'o', 're', 've', 'y', 'ain', 'aren', \"aren't\", 'couldn', \"couldn't\", 'didn', \"didn't\", 'doesn', \"doesn't\", 'hadn', \"hadn't\", 'hasn', \"hasn't\", 'haven', \"haven't\", 'isn', \"isn't\", 'ma', 'mightn', \"mightn't\", 'mustn', \"mustn't\", 'needn', \"needn't\", 'shan', \"shan't\", 'shouldn', \"shouldn't\", 'wasn', \"wasn't\", 'weren', \"weren't\", 'won', \"won't\", 'wouldn', \"wouldn't\"]\n"
          ]
        }
      ]
    },
    {
      "cell_type": "code",
      "source": [
        "stop_words = set(stopwords.words(\"english\"))"
      ],
      "metadata": {
        "id": "1Hfz-27q6GI3"
      },
      "id": "1Hfz-27q6GI3",
      "execution_count": 54,
      "outputs": []
    },
    {
      "cell_type": "code",
      "source": [
        "df['text'] = df['text'].apply(lambda x:x.lower())"
      ],
      "metadata": {
        "id": "AWdHRJDr6Idj"
      },
      "id": "AWdHRJDr6Idj",
      "execution_count": 56,
      "outputs": []
    },
    {
      "cell_type": "code",
      "source": [
        "df['text'] = df['text'].apply(lambda x:' '.join([word for word in x.split() if word not in(stop_words)]))"
      ],
      "metadata": {
        "id": "2-B71xjL6N_7"
      },
      "id": "2-B71xjL6N_7",
      "execution_count": 57,
      "outputs": []
    },
    {
      "cell_type": "code",
      "source": [
        "df['text']"
      ],
      "metadata": {
        "colab": {
          "base_uri": "https://localhost:8080/"
        },
        "id": "bvocvVwQ6R24",
        "outputId": "66a42500-88f9-447f-83db-e66e541d96ad"
      },
      "id": "bvocvVwQ6R24",
      "execution_count": 59,
      "outputs": [
        {
          "output_type": "execute_result",
          "data": {
            "text/plain": [
              "6        head content (m/f) de, be, berlin androidpit f...\n",
              "15       vp sales - vault dragon sg, 01, singapore sale...\n",
              "23       vice president, sales sponsorship (businessfri...\n",
              "98       ic&e technician us, , stocton, ca oil & energy...\n",
              "102      marketing administrator gb, war, coventry mark...\n",
              "                               ...                        \n",
              "17734    customer service representative us, tx, housto...\n",
              "17759    customer service representative us, ny, new yo...\n",
              "17813    customer service representative us, pa, philad...\n",
              "17849    communication designer us, ca, san francisco d...\n",
              "17865    portfolio development associate - paris & rest...\n",
              "Name: text, Length: 774, dtype: object"
            ]
          },
          "metadata": {},
          "execution_count": 59
        }
      ]
    },
    {
      "cell_type": "code",
      "source": [
        "X_test"
      ],
      "metadata": {
        "colab": {
          "base_uri": "https://localhost:8080/",
          "height": 954
        },
        "id": "BCdqdjoP6jZm",
        "outputId": "106a455b-a839-41af-aac4-02d14e063d0b"
      },
      "id": "BCdqdjoP6jZm",
      "execution_count": 66,
      "outputs": [
        {
          "output_type": "execute_result",
          "data": {
            "text/plain": [
              "       job_id                                              title  \\\n",
              "1502     1503          Accounting Product Support Representative   \n",
              "14560   14561                       Full Stack Python Developer    \n",
              "2981     2982                            User Interface Engineer   \n",
              "4902     4903            Product Specialist / Blippbuilder Brain   \n",
              "1450     1451                       Internship (Medical Affairs)   \n",
              "...       ...                                                ...   \n",
              "4125     4126  Technical Support Engineer - Mobile Augmented ...   \n",
              "9276     9277                Senior Business Development Manager   \n",
              "7105     7106                                    Program Manager   \n",
              "4009     4010                    Associate Account Manager-DRAFT   \n",
              "16443   16444  DevOps / Site Reliability Engineer (remote/tel...   \n",
              "\n",
              "                  location                      department   salary_range  \\\n",
              "1502     US, MI, Ann Arbor                         Support    30000-50000   \n",
              "14560       DE, BE, Berlin                             R&D    48000-60000   \n",
              "2981     US, MA, Cambridge              Product Management   80000-100000   \n",
              "4902       GB, LND, London                    Blippbuilder    30000-40000   \n",
              "1450                GR, ,                          Medical      4500-4500   \n",
              "...                    ...                             ...            ...   \n",
              "4125       GB, LND, London                     Engineering    25000-30000   \n",
              "9276          GB, , London  Sales and Business Development    70000-90000   \n",
              "7105   US, CA, Los Angeles             AGENCY CONFIDENTIAL    60000-75000   \n",
              "4009     US, MI, Ann Arbor                           Sales    30000-35000   \n",
              "16443     US, NY, New York                     Engineering  120000-160000   \n",
              "\n",
              "                                         company_profile  \\\n",
              "1502   ParishSOFT LLC (formerly Parish Systems, Inc.)...   \n",
              "14560  RhodeCode provides the leading source code man...   \n",
              "2981   Pioneering advanced analytics vendor RapidMine...   \n",
              "4902   As augmented reality jobs go, one at Blippar i...   \n",
              "1450   This initiative is being led by a very talente...   \n",
              "...                                                  ...   \n",
              "4125   As augmented reality jobs go, one at Blippar i...   \n",
              "9276   MarketInvoice is one of the most high-profile ...   \n",
              "7105   Envision Consulting conducts retained searches...   \n",
              "4009   ParishSOFT LLC (formerly Parish Systems, Inc.)...   \n",
              "16443  InVision is a venture-backed startup working t...   \n",
              "\n",
              "                                             description  \\\n",
              "1502   Exciting opportunity to work with fast paced c...   \n",
              "14560  Every day millions of developers, project mana...   \n",
              "2981   Pioneering advanced analytics vendor RapidMine...   \n",
              "4902   This is an exciting creative and customer faci...   \n",
              "1450   This is a 6-month full-time paid internship po...   \n",
              "...                                                  ...   \n",
              "4125   We are looking for awesome application support...   \n",
              "9276   BACKGROUNDA senior sales and account managemen...   \n",
              "7105   AGENCY is a nonprofit organization dedicated t...   \n",
              "4009   Exciting opportunity to work with fast paced c...   \n",
              "16443  InVision is the world’s leading design collabo...   \n",
              "\n",
              "                                            requirements  \\\n",
              "1502   Proficient computer skills with familiarity of...   \n",
              "14560  5+ years working as a Python web developerExpe...   \n",
              "2981   Experience in engineering applicationsDegree i...   \n",
              "4902   We are looking for individuals that are excite...   \n",
              "1450   Bachelor's Degree of all majors (AEI, TEI, Col...   \n",
              "...                                                  ...   \n",
              "4125   We are looking for someone with experience in ...   \n",
              "9276   5-10 years sales experience in B2B solution sa...   \n",
              "7105   Bachelor's degree from an accredited college o...   \n",
              "4009   Proficient computer skills with familiarity of...   \n",
              "16443  About You4+ years professional Linux system ad...   \n",
              "\n",
              "                                                benefits  telecommuting  \\\n",
              "1502   Profit Sharing401k MatchingHealth and Dental i...              0   \n",
              "14560  Comprehensive compensation package, including ...              0   \n",
              "2981   RapidMiner is an Equal Opportunity Employer.We...              0   \n",
              "4902   Our bright, open, centrally located offices ar...              0   \n",
              "1450   Working experience in leading corporationsHoli...              0   \n",
              "...                                                  ...            ...   \n",
              "4125   Our bright, open, centrally located offices ar...              0   \n",
              "9276   Competitive salary plus uncapped commission ba...              0   \n",
              "7105   COMPENSATION AND BENEFITSSalary starts  at $60...              0   \n",
              "4009   Profit Sharing401k MatchingHealth and Dental i...              0   \n",
              "16443  Highly competitive salaryStock optionsPremium ...              1   \n",
              "\n",
              "       has_company_logo  has_questions employment_type required_experience  \\\n",
              "1502                  1              0       Full-time         Entry level   \n",
              "14560                 1              0       Full-time           Associate   \n",
              "2981                  1              1       Full-time           Associate   \n",
              "4902                  1              1       Full-time    Mid-Senior level   \n",
              "1450                  1              1       Full-time          Internship   \n",
              "...                 ...            ...             ...                 ...   \n",
              "4125                  1              0       Full-time           Associate   \n",
              "9276                  1              0       Full-time    Mid-Senior level   \n",
              "7105                  1              1       Full-time    Mid-Senior level   \n",
              "4009                  1              0       Full-time         Entry level   \n",
              "16443                 1              1       Full-time    Mid-Senior level   \n",
              "\n",
              "      required_education                             industry  \\\n",
              "1502    Associate Degree  Information Technology and Services   \n",
              "14560  Bachelor's Degree                    Computer Software   \n",
              "2981    Associate Degree                    Computer Software   \n",
              "4902   Bachelor's Degree                             Internet   \n",
              "1450   Bachelor's Degree                      Pharmaceuticals   \n",
              "...                  ...                                  ...   \n",
              "4125         Unspecified                             Internet   \n",
              "9276   Bachelor's Degree                   Financial Services   \n",
              "7105     Master's Degree    Nonprofit Organization Management   \n",
              "4009    Associate Degree  Information Technology and Services   \n",
              "16443  Bachelor's Degree                             Internet   \n",
              "\n",
              "                     function  \n",
              "1502         Customer Service  \n",
              "14560  Information Technology  \n",
              "2981                   Design  \n",
              "4902                 Training  \n",
              "1450                    Other  \n",
              "...                       ...  \n",
              "4125              Engineering  \n",
              "9276                    Sales  \n",
              "7105           Administrative  \n",
              "4009                    Sales  \n",
              "16443             Engineering  \n",
              "\n",
              "[233 rows x 17 columns]"
            ],
            "text/html": [
              "\n",
              "  <div id=\"df-4f3041f8-c8e8-46d1-b3cb-38e41a497f34\">\n",
              "    <div class=\"colab-df-container\">\n",
              "      <div>\n",
              "<style scoped>\n",
              "    .dataframe tbody tr th:only-of-type {\n",
              "        vertical-align: middle;\n",
              "    }\n",
              "\n",
              "    .dataframe tbody tr th {\n",
              "        vertical-align: top;\n",
              "    }\n",
              "\n",
              "    .dataframe thead th {\n",
              "        text-align: right;\n",
              "    }\n",
              "</style>\n",
              "<table border=\"1\" class=\"dataframe\">\n",
              "  <thead>\n",
              "    <tr style=\"text-align: right;\">\n",
              "      <th></th>\n",
              "      <th>job_id</th>\n",
              "      <th>title</th>\n",
              "      <th>location</th>\n",
              "      <th>department</th>\n",
              "      <th>salary_range</th>\n",
              "      <th>company_profile</th>\n",
              "      <th>description</th>\n",
              "      <th>requirements</th>\n",
              "      <th>benefits</th>\n",
              "      <th>telecommuting</th>\n",
              "      <th>has_company_logo</th>\n",
              "      <th>has_questions</th>\n",
              "      <th>employment_type</th>\n",
              "      <th>required_experience</th>\n",
              "      <th>required_education</th>\n",
              "      <th>industry</th>\n",
              "      <th>function</th>\n",
              "    </tr>\n",
              "  </thead>\n",
              "  <tbody>\n",
              "    <tr>\n",
              "      <th>1502</th>\n",
              "      <td>1503</td>\n",
              "      <td>Accounting Product Support Representative</td>\n",
              "      <td>US, MI, Ann Arbor</td>\n",
              "      <td>Support</td>\n",
              "      <td>30000-50000</td>\n",
              "      <td>ParishSOFT LLC (formerly Parish Systems, Inc.)...</td>\n",
              "      <td>Exciting opportunity to work with fast paced c...</td>\n",
              "      <td>Proficient computer skills with familiarity of...</td>\n",
              "      <td>Profit Sharing401k MatchingHealth and Dental i...</td>\n",
              "      <td>0</td>\n",
              "      <td>1</td>\n",
              "      <td>0</td>\n",
              "      <td>Full-time</td>\n",
              "      <td>Entry level</td>\n",
              "      <td>Associate Degree</td>\n",
              "      <td>Information Technology and Services</td>\n",
              "      <td>Customer Service</td>\n",
              "    </tr>\n",
              "    <tr>\n",
              "      <th>14560</th>\n",
              "      <td>14561</td>\n",
              "      <td>Full Stack Python Developer</td>\n",
              "      <td>DE, BE, Berlin</td>\n",
              "      <td>R&amp;D</td>\n",
              "      <td>48000-60000</td>\n",
              "      <td>RhodeCode provides the leading source code man...</td>\n",
              "      <td>Every day millions of developers, project mana...</td>\n",
              "      <td>5+ years working as a Python web developerExpe...</td>\n",
              "      <td>Comprehensive compensation package, including ...</td>\n",
              "      <td>0</td>\n",
              "      <td>1</td>\n",
              "      <td>0</td>\n",
              "      <td>Full-time</td>\n",
              "      <td>Associate</td>\n",
              "      <td>Bachelor's Degree</td>\n",
              "      <td>Computer Software</td>\n",
              "      <td>Information Technology</td>\n",
              "    </tr>\n",
              "    <tr>\n",
              "      <th>2981</th>\n",
              "      <td>2982</td>\n",
              "      <td>User Interface Engineer</td>\n",
              "      <td>US, MA, Cambridge</td>\n",
              "      <td>Product Management</td>\n",
              "      <td>80000-100000</td>\n",
              "      <td>Pioneering advanced analytics vendor RapidMine...</td>\n",
              "      <td>Pioneering advanced analytics vendor RapidMine...</td>\n",
              "      <td>Experience in engineering applicationsDegree i...</td>\n",
              "      <td>RapidMiner is an Equal Opportunity Employer.We...</td>\n",
              "      <td>0</td>\n",
              "      <td>1</td>\n",
              "      <td>1</td>\n",
              "      <td>Full-time</td>\n",
              "      <td>Associate</td>\n",
              "      <td>Associate Degree</td>\n",
              "      <td>Computer Software</td>\n",
              "      <td>Design</td>\n",
              "    </tr>\n",
              "    <tr>\n",
              "      <th>4902</th>\n",
              "      <td>4903</td>\n",
              "      <td>Product Specialist / Blippbuilder Brain</td>\n",
              "      <td>GB, LND, London</td>\n",
              "      <td>Blippbuilder</td>\n",
              "      <td>30000-40000</td>\n",
              "      <td>As augmented reality jobs go, one at Blippar i...</td>\n",
              "      <td>This is an exciting creative and customer faci...</td>\n",
              "      <td>We are looking for individuals that are excite...</td>\n",
              "      <td>Our bright, open, centrally located offices ar...</td>\n",
              "      <td>0</td>\n",
              "      <td>1</td>\n",
              "      <td>1</td>\n",
              "      <td>Full-time</td>\n",
              "      <td>Mid-Senior level</td>\n",
              "      <td>Bachelor's Degree</td>\n",
              "      <td>Internet</td>\n",
              "      <td>Training</td>\n",
              "    </tr>\n",
              "    <tr>\n",
              "      <th>1450</th>\n",
              "      <td>1451</td>\n",
              "      <td>Internship (Medical Affairs)</td>\n",
              "      <td>GR, ,</td>\n",
              "      <td>Medical</td>\n",
              "      <td>4500-4500</td>\n",
              "      <td>This initiative is being led by a very talente...</td>\n",
              "      <td>This is a 6-month full-time paid internship po...</td>\n",
              "      <td>Bachelor's Degree of all majors (AEI, TEI, Col...</td>\n",
              "      <td>Working experience in leading corporationsHoli...</td>\n",
              "      <td>0</td>\n",
              "      <td>1</td>\n",
              "      <td>1</td>\n",
              "      <td>Full-time</td>\n",
              "      <td>Internship</td>\n",
              "      <td>Bachelor's Degree</td>\n",
              "      <td>Pharmaceuticals</td>\n",
              "      <td>Other</td>\n",
              "    </tr>\n",
              "    <tr>\n",
              "      <th>...</th>\n",
              "      <td>...</td>\n",
              "      <td>...</td>\n",
              "      <td>...</td>\n",
              "      <td>...</td>\n",
              "      <td>...</td>\n",
              "      <td>...</td>\n",
              "      <td>...</td>\n",
              "      <td>...</td>\n",
              "      <td>...</td>\n",
              "      <td>...</td>\n",
              "      <td>...</td>\n",
              "      <td>...</td>\n",
              "      <td>...</td>\n",
              "      <td>...</td>\n",
              "      <td>...</td>\n",
              "      <td>...</td>\n",
              "      <td>...</td>\n",
              "    </tr>\n",
              "    <tr>\n",
              "      <th>4125</th>\n",
              "      <td>4126</td>\n",
              "      <td>Technical Support Engineer - Mobile Augmented ...</td>\n",
              "      <td>GB, LND, London</td>\n",
              "      <td>Engineering</td>\n",
              "      <td>25000-30000</td>\n",
              "      <td>As augmented reality jobs go, one at Blippar i...</td>\n",
              "      <td>We are looking for awesome application support...</td>\n",
              "      <td>We are looking for someone with experience in ...</td>\n",
              "      <td>Our bright, open, centrally located offices ar...</td>\n",
              "      <td>0</td>\n",
              "      <td>1</td>\n",
              "      <td>0</td>\n",
              "      <td>Full-time</td>\n",
              "      <td>Associate</td>\n",
              "      <td>Unspecified</td>\n",
              "      <td>Internet</td>\n",
              "      <td>Engineering</td>\n",
              "    </tr>\n",
              "    <tr>\n",
              "      <th>9276</th>\n",
              "      <td>9277</td>\n",
              "      <td>Senior Business Development Manager</td>\n",
              "      <td>GB, , London</td>\n",
              "      <td>Sales and Business Development</td>\n",
              "      <td>70000-90000</td>\n",
              "      <td>MarketInvoice is one of the most high-profile ...</td>\n",
              "      <td>BACKGROUNDA senior sales and account managemen...</td>\n",
              "      <td>5-10 years sales experience in B2B solution sa...</td>\n",
              "      <td>Competitive salary plus uncapped commission ba...</td>\n",
              "      <td>0</td>\n",
              "      <td>1</td>\n",
              "      <td>0</td>\n",
              "      <td>Full-time</td>\n",
              "      <td>Mid-Senior level</td>\n",
              "      <td>Bachelor's Degree</td>\n",
              "      <td>Financial Services</td>\n",
              "      <td>Sales</td>\n",
              "    </tr>\n",
              "    <tr>\n",
              "      <th>7105</th>\n",
              "      <td>7106</td>\n",
              "      <td>Program Manager</td>\n",
              "      <td>US, CA, Los Angeles</td>\n",
              "      <td>AGENCY CONFIDENTIAL</td>\n",
              "      <td>60000-75000</td>\n",
              "      <td>Envision Consulting conducts retained searches...</td>\n",
              "      <td>AGENCY is a nonprofit organization dedicated t...</td>\n",
              "      <td>Bachelor's degree from an accredited college o...</td>\n",
              "      <td>COMPENSATION AND BENEFITSSalary starts  at $60...</td>\n",
              "      <td>0</td>\n",
              "      <td>1</td>\n",
              "      <td>1</td>\n",
              "      <td>Full-time</td>\n",
              "      <td>Mid-Senior level</td>\n",
              "      <td>Master's Degree</td>\n",
              "      <td>Nonprofit Organization Management</td>\n",
              "      <td>Administrative</td>\n",
              "    </tr>\n",
              "    <tr>\n",
              "      <th>4009</th>\n",
              "      <td>4010</td>\n",
              "      <td>Associate Account Manager-DRAFT</td>\n",
              "      <td>US, MI, Ann Arbor</td>\n",
              "      <td>Sales</td>\n",
              "      <td>30000-35000</td>\n",
              "      <td>ParishSOFT LLC (formerly Parish Systems, Inc.)...</td>\n",
              "      <td>Exciting opportunity to work with fast paced c...</td>\n",
              "      <td>Proficient computer skills with familiarity of...</td>\n",
              "      <td>Profit Sharing401k MatchingHealth and Dental i...</td>\n",
              "      <td>0</td>\n",
              "      <td>1</td>\n",
              "      <td>0</td>\n",
              "      <td>Full-time</td>\n",
              "      <td>Entry level</td>\n",
              "      <td>Associate Degree</td>\n",
              "      <td>Information Technology and Services</td>\n",
              "      <td>Sales</td>\n",
              "    </tr>\n",
              "    <tr>\n",
              "      <th>16443</th>\n",
              "      <td>16444</td>\n",
              "      <td>DevOps / Site Reliability Engineer (remote/tel...</td>\n",
              "      <td>US, NY, New York</td>\n",
              "      <td>Engineering</td>\n",
              "      <td>120000-160000</td>\n",
              "      <td>InVision is a venture-backed startup working t...</td>\n",
              "      <td>InVision is the world’s leading design collabo...</td>\n",
              "      <td>About You4+ years professional Linux system ad...</td>\n",
              "      <td>Highly competitive salaryStock optionsPremium ...</td>\n",
              "      <td>1</td>\n",
              "      <td>1</td>\n",
              "      <td>1</td>\n",
              "      <td>Full-time</td>\n",
              "      <td>Mid-Senior level</td>\n",
              "      <td>Bachelor's Degree</td>\n",
              "      <td>Internet</td>\n",
              "      <td>Engineering</td>\n",
              "    </tr>\n",
              "  </tbody>\n",
              "</table>\n",
              "<p>233 rows × 17 columns</p>\n",
              "</div>\n",
              "      <button class=\"colab-df-convert\" onclick=\"convertToInteractive('df-4f3041f8-c8e8-46d1-b3cb-38e41a497f34')\"\n",
              "              title=\"Convert this dataframe to an interactive table.\"\n",
              "              style=\"display:none;\">\n",
              "        \n",
              "  <svg xmlns=\"http://www.w3.org/2000/svg\" height=\"24px\"viewBox=\"0 0 24 24\"\n",
              "       width=\"24px\">\n",
              "    <path d=\"M0 0h24v24H0V0z\" fill=\"none\"/>\n",
              "    <path d=\"M18.56 5.44l.94 2.06.94-2.06 2.06-.94-2.06-.94-.94-2.06-.94 2.06-2.06.94zm-11 1L8.5 8.5l.94-2.06 2.06-.94-2.06-.94L8.5 2.5l-.94 2.06-2.06.94zm10 10l.94 2.06.94-2.06 2.06-.94-2.06-.94-.94-2.06-.94 2.06-2.06.94z\"/><path d=\"M17.41 7.96l-1.37-1.37c-.4-.4-.92-.59-1.43-.59-.52 0-1.04.2-1.43.59L10.3 9.45l-7.72 7.72c-.78.78-.78 2.05 0 2.83L4 21.41c.39.39.9.59 1.41.59.51 0 1.02-.2 1.41-.59l7.78-7.78 2.81-2.81c.8-.78.8-2.07 0-2.86zM5.41 20L4 18.59l7.72-7.72 1.47 1.35L5.41 20z\"/>\n",
              "  </svg>\n",
              "      </button>\n",
              "      \n",
              "  <style>\n",
              "    .colab-df-container {\n",
              "      display:flex;\n",
              "      flex-wrap:wrap;\n",
              "      gap: 12px;\n",
              "    }\n",
              "\n",
              "    .colab-df-convert {\n",
              "      background-color: #E8F0FE;\n",
              "      border: none;\n",
              "      border-radius: 50%;\n",
              "      cursor: pointer;\n",
              "      display: none;\n",
              "      fill: #1967D2;\n",
              "      height: 32px;\n",
              "      padding: 0 0 0 0;\n",
              "      width: 32px;\n",
              "    }\n",
              "\n",
              "    .colab-df-convert:hover {\n",
              "      background-color: #E2EBFA;\n",
              "      box-shadow: 0px 1px 2px rgba(60, 64, 67, 0.3), 0px 1px 3px 1px rgba(60, 64, 67, 0.15);\n",
              "      fill: #174EA6;\n",
              "    }\n",
              "\n",
              "    [theme=dark] .colab-df-convert {\n",
              "      background-color: #3B4455;\n",
              "      fill: #D2E3FC;\n",
              "    }\n",
              "\n",
              "    [theme=dark] .colab-df-convert:hover {\n",
              "      background-color: #434B5C;\n",
              "      box-shadow: 0px 1px 3px 1px rgba(0, 0, 0, 0.15);\n",
              "      filter: drop-shadow(0px 1px 2px rgba(0, 0, 0, 0.3));\n",
              "      fill: #FFFFFF;\n",
              "    }\n",
              "  </style>\n",
              "\n",
              "      <script>\n",
              "        const buttonEl =\n",
              "          document.querySelector('#df-4f3041f8-c8e8-46d1-b3cb-38e41a497f34 button.colab-df-convert');\n",
              "        buttonEl.style.display =\n",
              "          google.colab.kernel.accessAllowed ? 'block' : 'none';\n",
              "\n",
              "        async function convertToInteractive(key) {\n",
              "          const element = document.querySelector('#df-4f3041f8-c8e8-46d1-b3cb-38e41a497f34');\n",
              "          const dataTable =\n",
              "            await google.colab.kernel.invokeFunction('convertToInteractive',\n",
              "                                                     [key], {});\n",
              "          if (!dataTable) return;\n",
              "\n",
              "          const docLinkHtml = 'Like what you see? Visit the ' +\n",
              "            '<a target=\"_blank\" href=https://colab.research.google.com/notebooks/data_table.ipynb>data table notebook</a>'\n",
              "            + ' to learn more about interactive tables.';\n",
              "          element.innerHTML = '';\n",
              "          dataTable['output_type'] = 'display_data';\n",
              "          await google.colab.output.renderOutput(dataTable, element);\n",
              "          const docLink = document.createElement('div');\n",
              "          docLink.innerHTML = docLinkHtml;\n",
              "          element.appendChild(docLink);\n",
              "        }\n",
              "      </script>\n",
              "    </div>\n",
              "  </div>\n",
              "  "
            ]
          },
          "metadata": {},
          "execution_count": 66
        }
      ]
    },
    {
      "cell_type": "code",
      "source": [
        ""
      ],
      "metadata": {
        "colab": {
          "base_uri": "https://localhost:8080/",
          "height": 364
        },
        "id": "P8vz-shl60BZ",
        "outputId": "faed2be3-f6d2-4b7c-d2b9-82dd57438a2f"
      },
      "id": "P8vz-shl60BZ",
      "execution_count": 68,
      "outputs": [
        {
          "output_type": "error",
          "ename": "ValueError",
          "evalue": "ignored",
          "traceback": [
            "\u001b[0;31m---------------------------------------------------------------------------\u001b[0m",
            "\u001b[0;31mValueError\u001b[0m                                Traceback (most recent call last)",
            "\u001b[0;32m<ipython-input-68-47b02495aa25>\u001b[0m in \u001b[0;36m<module>\u001b[0;34m()\u001b[0m\n\u001b[1;32m      1\u001b[0m \u001b[0minput_data\u001b[0m \u001b[0;34m=\u001b[0m \u001b[0mvect\u001b[0m\u001b[0;34m.\u001b[0m\u001b[0mtransform\u001b[0m\u001b[0;34m(\u001b[0m\u001b[0minput_text\u001b[0m\u001b[0;34m)\u001b[0m\u001b[0;34m\u001b[0m\u001b[0;34m\u001b[0m\u001b[0m\n\u001b[1;32m      2\u001b[0m \u001b[0;34m\u001b[0m\u001b[0m\n\u001b[0;32m----> 3\u001b[0;31m \u001b[0mprediction\u001b[0m \u001b[0;34m=\u001b[0m \u001b[0mdt\u001b[0m\u001b[0;34m.\u001b[0m\u001b[0mpredict\u001b[0m\u001b[0;34m(\u001b[0m\u001b[0mX_train_dtm\u001b[0m\u001b[0;34m)\u001b[0m\u001b[0;34m\u001b[0m\u001b[0;34m\u001b[0m\u001b[0m\n\u001b[0m\u001b[1;32m      4\u001b[0m \u001b[0;34m\u001b[0m\u001b[0m\n\u001b[1;32m      5\u001b[0m \u001b[0;32mif\u001b[0m \u001b[0;34m(\u001b[0m\u001b[0mprediction\u001b[0m\u001b[0;34m[\u001b[0m\u001b[0;36m0\u001b[0m\u001b[0;34m]\u001b[0m \u001b[0;34m==\u001b[0m \u001b[0;36m1\u001b[0m\u001b[0;34m)\u001b[0m\u001b[0;34m:\u001b[0m\u001b[0;34m\u001b[0m\u001b[0;34m\u001b[0m\u001b[0m\n",
            "\u001b[0;32m/usr/local/lib/python3.7/dist-packages/sklearn/tree/_classes.py\u001b[0m in \u001b[0;36mpredict\u001b[0;34m(self, X, check_input)\u001b[0m\n\u001b[1;32m    465\u001b[0m         \"\"\"\n\u001b[1;32m    466\u001b[0m         \u001b[0mcheck_is_fitted\u001b[0m\u001b[0;34m(\u001b[0m\u001b[0mself\u001b[0m\u001b[0;34m)\u001b[0m\u001b[0;34m\u001b[0m\u001b[0;34m\u001b[0m\u001b[0m\n\u001b[0;32m--> 467\u001b[0;31m         \u001b[0mX\u001b[0m \u001b[0;34m=\u001b[0m \u001b[0mself\u001b[0m\u001b[0;34m.\u001b[0m\u001b[0m_validate_X_predict\u001b[0m\u001b[0;34m(\u001b[0m\u001b[0mX\u001b[0m\u001b[0;34m,\u001b[0m \u001b[0mcheck_input\u001b[0m\u001b[0;34m)\u001b[0m\u001b[0;34m\u001b[0m\u001b[0;34m\u001b[0m\u001b[0m\n\u001b[0m\u001b[1;32m    468\u001b[0m         \u001b[0mproba\u001b[0m \u001b[0;34m=\u001b[0m \u001b[0mself\u001b[0m\u001b[0;34m.\u001b[0m\u001b[0mtree_\u001b[0m\u001b[0;34m.\u001b[0m\u001b[0mpredict\u001b[0m\u001b[0;34m(\u001b[0m\u001b[0mX\u001b[0m\u001b[0;34m)\u001b[0m\u001b[0;34m\u001b[0m\u001b[0;34m\u001b[0m\u001b[0m\n\u001b[1;32m    469\u001b[0m         \u001b[0mn_samples\u001b[0m \u001b[0;34m=\u001b[0m \u001b[0mX\u001b[0m\u001b[0;34m.\u001b[0m\u001b[0mshape\u001b[0m\u001b[0;34m[\u001b[0m\u001b[0;36m0\u001b[0m\u001b[0;34m]\u001b[0m\u001b[0;34m\u001b[0m\u001b[0;34m\u001b[0m\u001b[0m\n",
            "\u001b[0;32m/usr/local/lib/python3.7/dist-packages/sklearn/tree/_classes.py\u001b[0m in \u001b[0;36m_validate_X_predict\u001b[0;34m(self, X, check_input)\u001b[0m\n\u001b[1;32m    431\u001b[0m         \u001b[0;34m\"\"\"Validate the training data on predict (probabilities).\"\"\"\u001b[0m\u001b[0;34m\u001b[0m\u001b[0;34m\u001b[0m\u001b[0m\n\u001b[1;32m    432\u001b[0m         \u001b[0;32mif\u001b[0m \u001b[0mcheck_input\u001b[0m\u001b[0;34m:\u001b[0m\u001b[0;34m\u001b[0m\u001b[0;34m\u001b[0m\u001b[0m\n\u001b[0;32m--> 433\u001b[0;31m             \u001b[0mX\u001b[0m \u001b[0;34m=\u001b[0m \u001b[0mself\u001b[0m\u001b[0;34m.\u001b[0m\u001b[0m_validate_data\u001b[0m\u001b[0;34m(\u001b[0m\u001b[0mX\u001b[0m\u001b[0;34m,\u001b[0m \u001b[0mdtype\u001b[0m\u001b[0;34m=\u001b[0m\u001b[0mDTYPE\u001b[0m\u001b[0;34m,\u001b[0m \u001b[0maccept_sparse\u001b[0m\u001b[0;34m=\u001b[0m\u001b[0;34m\"csr\"\u001b[0m\u001b[0;34m,\u001b[0m \u001b[0mreset\u001b[0m\u001b[0;34m=\u001b[0m\u001b[0;32mFalse\u001b[0m\u001b[0;34m)\u001b[0m\u001b[0;34m\u001b[0m\u001b[0;34m\u001b[0m\u001b[0m\n\u001b[0m\u001b[1;32m    434\u001b[0m             if issparse(X) and (\n\u001b[1;32m    435\u001b[0m                 \u001b[0mX\u001b[0m\u001b[0;34m.\u001b[0m\u001b[0mindices\u001b[0m\u001b[0;34m.\u001b[0m\u001b[0mdtype\u001b[0m \u001b[0;34m!=\u001b[0m \u001b[0mnp\u001b[0m\u001b[0;34m.\u001b[0m\u001b[0mintc\u001b[0m \u001b[0;32mor\u001b[0m \u001b[0mX\u001b[0m\u001b[0;34m.\u001b[0m\u001b[0mindptr\u001b[0m\u001b[0;34m.\u001b[0m\u001b[0mdtype\u001b[0m \u001b[0;34m!=\u001b[0m \u001b[0mnp\u001b[0m\u001b[0;34m.\u001b[0m\u001b[0mintc\u001b[0m\u001b[0;34m\u001b[0m\u001b[0;34m\u001b[0m\u001b[0m\n",
            "\u001b[0;32m/usr/local/lib/python3.7/dist-packages/sklearn/base.py\u001b[0m in \u001b[0;36m_validate_data\u001b[0;34m(self, X, y, reset, validate_separately, **check_params)\u001b[0m\n\u001b[1;32m    583\u001b[0m \u001b[0;34m\u001b[0m\u001b[0m\n\u001b[1;32m    584\u001b[0m         \u001b[0;32mif\u001b[0m \u001b[0;32mnot\u001b[0m \u001b[0mno_val_X\u001b[0m \u001b[0;32mand\u001b[0m \u001b[0mcheck_params\u001b[0m\u001b[0;34m.\u001b[0m\u001b[0mget\u001b[0m\u001b[0;34m(\u001b[0m\u001b[0;34m\"ensure_2d\"\u001b[0m\u001b[0;34m,\u001b[0m \u001b[0;32mTrue\u001b[0m\u001b[0;34m)\u001b[0m\u001b[0;34m:\u001b[0m\u001b[0;34m\u001b[0m\u001b[0;34m\u001b[0m\u001b[0m\n\u001b[0;32m--> 585\u001b[0;31m             \u001b[0mself\u001b[0m\u001b[0;34m.\u001b[0m\u001b[0m_check_n_features\u001b[0m\u001b[0;34m(\u001b[0m\u001b[0mX\u001b[0m\u001b[0;34m,\u001b[0m \u001b[0mreset\u001b[0m\u001b[0;34m=\u001b[0m\u001b[0mreset\u001b[0m\u001b[0;34m)\u001b[0m\u001b[0;34m\u001b[0m\u001b[0;34m\u001b[0m\u001b[0m\n\u001b[0m\u001b[1;32m    586\u001b[0m \u001b[0;34m\u001b[0m\u001b[0m\n\u001b[1;32m    587\u001b[0m         \u001b[0;32mreturn\u001b[0m \u001b[0mout\u001b[0m\u001b[0;34m\u001b[0m\u001b[0;34m\u001b[0m\u001b[0m\n",
            "\u001b[0;32m/usr/local/lib/python3.7/dist-packages/sklearn/base.py\u001b[0m in \u001b[0;36m_check_n_features\u001b[0;34m(self, X, reset)\u001b[0m\n\u001b[1;32m    399\u001b[0m         \u001b[0;32mif\u001b[0m \u001b[0mn_features\u001b[0m \u001b[0;34m!=\u001b[0m \u001b[0mself\u001b[0m\u001b[0;34m.\u001b[0m\u001b[0mn_features_in_\u001b[0m\u001b[0;34m:\u001b[0m\u001b[0;34m\u001b[0m\u001b[0;34m\u001b[0m\u001b[0m\n\u001b[1;32m    400\u001b[0m             raise ValueError(\n\u001b[0;32m--> 401\u001b[0;31m                 \u001b[0;34mf\"X has {n_features} features, but {self.__class__.__name__} \"\u001b[0m\u001b[0;34m\u001b[0m\u001b[0;34m\u001b[0m\u001b[0m\n\u001b[0m\u001b[1;32m    402\u001b[0m                 \u001b[0;34mf\"is expecting {self.n_features_in_} features as input.\"\u001b[0m\u001b[0;34m\u001b[0m\u001b[0;34m\u001b[0m\u001b[0m\n\u001b[1;32m    403\u001b[0m             )\n",
            "\u001b[0;31mValueError\u001b[0m: X has 17 features, but DecisionTreeClassifier is expecting 3563 features as input."
          ]
        }
      ]
    }
  ],
  "metadata": {
    "kernelspec": {
      "display_name": "Python 3",
      "language": "python",
      "name": "python3"
    },
    "language_info": {
      "codemirror_mode": {
        "name": "ipython",
        "version": 3
      },
      "file_extension": ".py",
      "mimetype": "text/x-python",
      "name": "python",
      "nbconvert_exporter": "python",
      "pygments_lexer": "ipython3",
      "version": "3.8.8"
    },
    "colab": {
      "name": "Random_Forest.ipynb",
      "provenance": [],
      "collapsed_sections": [],
      "include_colab_link": true
    }
  },
  "nbformat": 4,
  "nbformat_minor": 5
}