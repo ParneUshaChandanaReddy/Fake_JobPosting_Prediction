{
 "cells": [
  {
   "cell_type": "code",
   "execution_count": 2,
   "id": "b374cc31",
   "metadata": {},
   "outputs": [],
   "source": [
    "import numpy as np \n",
    "import pandas as pd\n",
    "import sklearn_pandas\n",
    "import sklearn as sk\n",
    "import seaborn as sns\n",
    "import matplotlib.pyplot as plt\n",
    "from sklearn.ensemble import RandomForestClassifier"
   ]
  },
  {
   "cell_type": "code",
   "execution_count": 3,
   "id": "95725b66",
   "metadata": {},
   "outputs": [
    {
     "data": {
      "text/html": [
       "<div>\n",
       "<style scoped>\n",
       "    .dataframe tbody tr th:only-of-type {\n",
       "        vertical-align: middle;\n",
       "    }\n",
       "\n",
       "    .dataframe tbody tr th {\n",
       "        vertical-align: top;\n",
       "    }\n",
       "\n",
       "    .dataframe thead th {\n",
       "        text-align: right;\n",
       "    }\n",
       "</style>\n",
       "<table border=\"1\" class=\"dataframe\">\n",
       "  <thead>\n",
       "    <tr style=\"text-align: right;\">\n",
       "      <th></th>\n",
       "      <th>job_id</th>\n",
       "      <th>title</th>\n",
       "      <th>location</th>\n",
       "      <th>department</th>\n",
       "      <th>salary_range</th>\n",
       "      <th>company_profile</th>\n",
       "      <th>description</th>\n",
       "      <th>requirements</th>\n",
       "      <th>benefits</th>\n",
       "      <th>telecommuting</th>\n",
       "      <th>has_company_logo</th>\n",
       "      <th>has_questions</th>\n",
       "      <th>employment_type</th>\n",
       "      <th>required_experience</th>\n",
       "      <th>required_education</th>\n",
       "      <th>industry</th>\n",
       "      <th>function</th>\n",
       "      <th>fraudulent</th>\n",
       "    </tr>\n",
       "  </thead>\n",
       "  <tbody>\n",
       "    <tr>\n",
       "      <th>0</th>\n",
       "      <td>1</td>\n",
       "      <td>Marketing Intern</td>\n",
       "      <td>US, NY, New York</td>\n",
       "      <td>Marketing</td>\n",
       "      <td>NaN</td>\n",
       "      <td>We're Food52, and we've created a groundbreaki...</td>\n",
       "      <td>Food52, a fast-growing, James Beard Award-winn...</td>\n",
       "      <td>Experience with content management systems a m...</td>\n",
       "      <td>NaN</td>\n",
       "      <td>0</td>\n",
       "      <td>1</td>\n",
       "      <td>0</td>\n",
       "      <td>Other</td>\n",
       "      <td>Internship</td>\n",
       "      <td>NaN</td>\n",
       "      <td>NaN</td>\n",
       "      <td>Marketing</td>\n",
       "      <td>0</td>\n",
       "    </tr>\n",
       "    <tr>\n",
       "      <th>1</th>\n",
       "      <td>2</td>\n",
       "      <td>Customer Service - Cloud Video Production</td>\n",
       "      <td>NZ, , Auckland</td>\n",
       "      <td>Success</td>\n",
       "      <td>NaN</td>\n",
       "      <td>90 Seconds, the worlds Cloud Video Production ...</td>\n",
       "      <td>Organised - Focused - Vibrant - Awesome!Do you...</td>\n",
       "      <td>What we expect from you:Your key responsibilit...</td>\n",
       "      <td>What you will get from usThrough being part of...</td>\n",
       "      <td>0</td>\n",
       "      <td>1</td>\n",
       "      <td>0</td>\n",
       "      <td>Full-time</td>\n",
       "      <td>Not Applicable</td>\n",
       "      <td>NaN</td>\n",
       "      <td>Marketing and Advertising</td>\n",
       "      <td>Customer Service</td>\n",
       "      <td>0</td>\n",
       "    </tr>\n",
       "  </tbody>\n",
       "</table>\n",
       "</div>"
      ],
      "text/plain": [
       "   job_id                                      title          location  \\\n",
       "0       1                           Marketing Intern  US, NY, New York   \n",
       "1       2  Customer Service - Cloud Video Production    NZ, , Auckland   \n",
       "\n",
       "  department salary_range                                    company_profile  \\\n",
       "0  Marketing          NaN  We're Food52, and we've created a groundbreaki...   \n",
       "1    Success          NaN  90 Seconds, the worlds Cloud Video Production ...   \n",
       "\n",
       "                                         description  \\\n",
       "0  Food52, a fast-growing, James Beard Award-winn...   \n",
       "1  Organised - Focused - Vibrant - Awesome!Do you...   \n",
       "\n",
       "                                        requirements  \\\n",
       "0  Experience with content management systems a m...   \n",
       "1  What we expect from you:Your key responsibilit...   \n",
       "\n",
       "                                            benefits  telecommuting  \\\n",
       "0                                                NaN              0   \n",
       "1  What you will get from usThrough being part of...              0   \n",
       "\n",
       "   has_company_logo  has_questions employment_type required_experience  \\\n",
       "0                 1              0           Other          Internship   \n",
       "1                 1              0       Full-time      Not Applicable   \n",
       "\n",
       "  required_education                   industry          function  fraudulent  \n",
       "0                NaN                        NaN         Marketing           0  \n",
       "1                NaN  Marketing and Advertising  Customer Service           0  "
      ]
     },
     "execution_count": 3,
     "metadata": {},
     "output_type": "execute_result"
    }
   ],
   "source": [
    "df=pd.read_csv('fake_job_postings.csv')\n",
    "df.head(2)"
   ]
  },
  {
   "cell_type": "markdown",
   "id": "c53269b2",
   "metadata": {},
   "source": [
    "# Exploring the dataset "
   ]
  },
  {
   "cell_type": "code",
   "execution_count": 5,
   "id": "3adf844f",
   "metadata": {},
   "outputs": [
    {
     "data": {
      "text/plain": [
       "Index(['job_id', 'title', 'location', 'department', 'salary_range',\n",
       "       'company_profile', 'description', 'requirements', 'benefits',\n",
       "       'telecommuting', 'has_company_logo', 'has_questions', 'employment_type',\n",
       "       'required_experience', 'required_education', 'industry', 'function',\n",
       "       'fraudulent'],\n",
       "      dtype='object')"
      ]
     },
     "execution_count": 5,
     "metadata": {},
     "output_type": "execute_result"
    }
   ],
   "source": [
    "df.columns\n"
   ]
  },
  {
   "cell_type": "code",
   "execution_count": 10,
   "id": "61b4d0b4",
   "metadata": {},
   "outputs": [
    {
     "name": "stdout",
     "output_type": "stream",
     "text": [
      "(3388, 18)\n",
      "(4702, 18)\n"
     ]
    },
    {
     "data": {
      "text/plain": [
       "0    4453\n",
       "1     249\n",
       "Name: fraudulent, dtype: int64"
      ]
     },
     "execution_count": 10,
     "metadata": {},
     "output_type": "execute_result"
    }
   ],
   "source": [
    "df['function'].value_counts()\n",
    "stem = ['Information Technology', 'Engineering', 'Data Analyst', 'Science', 'Business Analyst', 'Quality Assurance']\n",
    "non_stem = ['Sales', 'Customer Service', 'Marketing', 'Administrative', 'Design', 'Human Resources']\n",
    "df_stem = df[df['function'].isin(stem)]\n",
    "df_non_stem = df[df['function'].isin(non_stem)]\n",
    "print(df_stem.shape)\n",
    "print(df_non_stem.shape)\n",
    "\n",
    "df_non_stem['fraudulent'].value_counts()"
   ]
  },
  {
   "cell_type": "code",
   "execution_count": 11,
   "id": "6d4d8804",
   "metadata": {},
   "outputs": [
    {
     "data": {
      "image/png": "[encoded data removed]",
      "text/plain": [
       "<Figure size 720x720 with 1 Axes>"
      ]
     },
     "metadata": {},
     "output_type": "display_data"
    }
   ],
   "source": [
    "import matplotlib.pyplot as plt\n",
    "\n",
    "stem_zero = df_stem['fraudulent'].value_counts()[0]\n",
    "stem_one = df_stem['fraudulent'].value_counts()[1]\n",
    "non_stem_zero = df_non_stem['fraudulent'].value_counts()[0]\n",
    "non_stem_one = df_non_stem['fraudulent'].value_counts()[1]\n",
    "\n",
    "labels = 'Real Job Posting', 'Fraudulent'\n",
    "sizes = [stem_zero, stem_one]\n",
    "explode = (0, 0.1)  \n",
    "\n",
    "#add colors\n",
    "colors = ['#C0C0C0','#CFFFA6']\n",
    "\n",
    "fig1, ax1 = plt.subplots(figsize = (10, 10))\n",
    "ax1.pie(sizes, explode=explode, colors=colors, labels = labels, autopct='%1.1f%%',\n",
    "        shadow=True, startangle=90)\n",
    "ax1.axis('equal')  # Equal aspect ratio ensures that pie is drawn as a circle.\n",
    "plt.title('STEM')\n",
    "plt.legend()\n",
    "plt.show()"
   ]
  },
  {
   "cell_type": "markdown",
   "id": "e8a3420a",
   "metadata": {},
   "source": [
    "# Differentiate categorical data and numerical data"
   ]
  },
  {
   "cell_type": "code",
   "execution_count": 12,
   "id": "2ee49a37",
   "metadata": {},
   "outputs": [],
   "source": [
    "\n",
    "df_num = df[['telecommuting','has_company_logo','has_questions','fraudulent','salary_range']]\n",
    "df_cat = df[['title', 'location','company_profile', 'requirements','employment_type',\n",
    "       'required_experience', 'required_education', 'industry', 'function']]"
   ]
  },
  {
   "cell_type": "markdown",
   "id": "4353e4d2",
   "metadata": {},
   "source": [
    "# Checking for Outliers in numerical data to minimise overfitting\n"
   ]
  },
  {
   "cell_type": "code",
   "execution_count": 14,
   "id": "dcef66fb",
   "metadata": {},
   "outputs": [
    {
     "data": {
      "image/png": "[encoded data removed]",
      "text/plain": [
       "<Figure size 1152x576 with 1 Axes>"
      ]
     },
     "metadata": {
      "needs_background": "light"
     },
     "output_type": "display_data"
    }
   ],
   "source": [
    "plt.figure(figsize=[16,8])\n",
    "sns.boxplot(data = df_num)\n",
    "plt.show()"
   ]
  },
  {
   "cell_type": "code",
   "execution_count": 15,
   "id": "ee0988cc",
   "metadata": {},
   "outputs": [
    {
     "data": {
      "text/html": [
       "<div>\n",
       "<style scoped>\n",
       "    .dataframe tbody tr th:only-of-type {\n",
       "        vertical-align: middle;\n",
       "    }\n",
       "\n",
       "    .dataframe tbody tr th {\n",
       "        vertical-align: top;\n",
       "    }\n",
       "\n",
       "    .dataframe thead th {\n",
       "        text-align: right;\n",
       "    }\n",
       "</style>\n",
       "<table border=\"1\" class=\"dataframe\">\n",
       "  <thead>\n",
       "    <tr style=\"text-align: right;\">\n",
       "      <th></th>\n",
       "      <th>telecommuting</th>\n",
       "      <th>has_company_logo</th>\n",
       "      <th>has_questions</th>\n",
       "      <th>fraudulent</th>\n",
       "      <th>salary_range</th>\n",
       "    </tr>\n",
       "  </thead>\n",
       "  <tbody>\n",
       "    <tr>\n",
       "      <th>0</th>\n",
       "      <td>0</td>\n",
       "      <td>1</td>\n",
       "      <td>0</td>\n",
       "      <td>0</td>\n",
       "      <td>NaN</td>\n",
       "    </tr>\n",
       "    <tr>\n",
       "      <th>1</th>\n",
       "      <td>0</td>\n",
       "      <td>1</td>\n",
       "      <td>0</td>\n",
       "      <td>0</td>\n",
       "      <td>NaN</td>\n",
       "    </tr>\n",
       "    <tr>\n",
       "      <th>2</th>\n",
       "      <td>0</td>\n",
       "      <td>1</td>\n",
       "      <td>0</td>\n",
       "      <td>0</td>\n",
       "      <td>NaN</td>\n",
       "    </tr>\n",
       "    <tr>\n",
       "      <th>3</th>\n",
       "      <td>0</td>\n",
       "      <td>1</td>\n",
       "      <td>0</td>\n",
       "      <td>0</td>\n",
       "      <td>NaN</td>\n",
       "    </tr>\n",
       "    <tr>\n",
       "      <th>4</th>\n",
       "      <td>0</td>\n",
       "      <td>1</td>\n",
       "      <td>1</td>\n",
       "      <td>0</td>\n",
       "      <td>NaN</td>\n",
       "    </tr>\n",
       "    <tr>\n",
       "      <th>...</th>\n",
       "      <td>...</td>\n",
       "      <td>...</td>\n",
       "      <td>...</td>\n",
       "      <td>...</td>\n",
       "      <td>...</td>\n",
       "    </tr>\n",
       "    <tr>\n",
       "      <th>17872</th>\n",
       "      <td>0</td>\n",
       "      <td>1</td>\n",
       "      <td>0</td>\n",
       "      <td>0</td>\n",
       "      <td>NaN</td>\n",
       "    </tr>\n",
       "    <tr>\n",
       "      <th>17873</th>\n",
       "      <td>0</td>\n",
       "      <td>1</td>\n",
       "      <td>0</td>\n",
       "      <td>0</td>\n",
       "      <td>NaN</td>\n",
       "    </tr>\n",
       "    <tr>\n",
       "      <th>17875</th>\n",
       "      <td>0</td>\n",
       "      <td>1</td>\n",
       "      <td>1</td>\n",
       "      <td>0</td>\n",
       "      <td>NaN</td>\n",
       "    </tr>\n",
       "    <tr>\n",
       "      <th>17876</th>\n",
       "      <td>0</td>\n",
       "      <td>1</td>\n",
       "      <td>1</td>\n",
       "      <td>0</td>\n",
       "      <td>NaN</td>\n",
       "    </tr>\n",
       "    <tr>\n",
       "      <th>17879</th>\n",
       "      <td>0</td>\n",
       "      <td>1</td>\n",
       "      <td>1</td>\n",
       "      <td>0</td>\n",
       "      <td>NaN</td>\n",
       "    </tr>\n",
       "  </tbody>\n",
       "</table>\n",
       "<p>13377 rows × 5 columns</p>\n",
       "</div>"
      ],
      "text/plain": [
       "       telecommuting  has_company_logo  has_questions  fraudulent salary_range\n",
       "0                  0                 1              0           0          NaN\n",
       "1                  0                 1              0           0          NaN\n",
       "2                  0                 1              0           0          NaN\n",
       "3                  0                 1              0           0          NaN\n",
       "4                  0                 1              1           0          NaN\n",
       "...              ...               ...            ...         ...          ...\n",
       "17872              0                 1              0           0          NaN\n",
       "17873              0                 1              0           0          NaN\n",
       "17875              0                 1              1           0          NaN\n",
       "17876              0                 1              1           0          NaN\n",
       "17879              0                 1              1           0          NaN\n",
       "\n",
       "[13377 rows x 5 columns]"
      ]
     },
     "execution_count": 15,
     "metadata": {},
     "output_type": "execute_result"
    }
   ],
   "source": [
    "#Removing Outliers from columns\n",
    "df_num = df_num[df_num['telecommuting'] < 0.9 ]\n",
    "df_num = df_num[df_num['fraudulent'] < 0.9 ]\n",
    "df_num = df_num[df_num['has_company_logo'] > 0.1 ]\n",
    "df_num"
   ]
  },
  {
   "cell_type": "code",
   "execution_count": 17,
   "id": "35f34562",
   "metadata": {},
   "outputs": [],
   "source": [
    "df.dropna(axis= 0, how= 'any', inplace=True)\n"
   ]
  },
  {
   "cell_type": "code",
   "execution_count": 18,
   "id": "6ebb94f8",
   "metadata": {},
   "outputs": [
    {
     "data": {
      "image/png": "[encoded data removed]",
      "text/plain": [
       "<Figure size 1800x1440 with 3 Axes>"
      ]
     },
     "metadata": {
      "needs_background": "light"
     },
     "output_type": "display_data"
    }
   ],
   "source": [
    "# Plots to see the distribution of the continuous features individually\n",
    "\n",
    "plt.figure(figsize= (25,20))\n",
    "plt.subplot(3,3,1)\n",
    "plt.hist(df.employment_type, color='orange', edgecolor = 'black', alpha = 0.7)\n",
    "plt.xlabel('\\nEmployment type')\n",
    "\n",
    "plt.subplot(3,3,2)\n",
    "plt.hist(df.required_experience, color='lightblue', edgecolor = 'black', alpha = 0.7)\n",
    "plt.xlabel('\\nRequired Experience')\n",
    "\n",
    "plt.subplot(3,3,3)\n",
    "plt.hist(df.fraudulent, color='red', edgecolor = 'black', alpha = 0.7)\n",
    "plt.xlabel('\\nFraud')\n",
    "plt.show()"
   ]
  },
  {
   "cell_type": "code",
   "execution_count": 19,
   "id": "f19cf211",
   "metadata": {},
   "outputs": [
    {
     "data": {
      "text/plain": [
       "((580, 3563), (194, 3563), (580,), (194,))"
      ]
     },
     "execution_count": 19,
     "metadata": {},
     "output_type": "execute_result"
    }
   ],
   "source": [
    "from sklearn.linear_model import LogisticRegression\n",
    "from sklearn.ensemble import RandomForestClassifier\n",
    "from sklearn.model_selection import train_test_split\n",
    "from sklearn.preprocessing import OneHotEncoder\n",
    "from sklearn.compose import ColumnTransformer\n",
    "from sklearn import feature_selection\n",
    "from sklearn.impute import SimpleImputer\n",
    "\n",
    "df['department'] = df['department'].fillna(df['department'].mode()[0])\n",
    "\n",
    "data_cat_imp=SimpleImputer(strategy=\"constant\",fill_value=\"Missing\")\n",
    "cat_imp_feature=[\"title\",\"location\",\"department\",\"salary_range\",\"company_profile\",\"description\",\"requirements\",\"benefits\",\n",
    "                 \"employment_type\",\"required_experience\",\"required_education\",\"industry\",\"function\"]\n",
    "\n",
    "# Filling the Numerical values through existing value\n",
    "data_num_imp=SimpleImputer(strategy=\"constant\",fill_value=None)\n",
    "num_imp_feature =[\"job_id\",\"telecommuting\",\"has_company_logo\",\"has_questions\",\"fraudulent\"]\n",
    "\n",
    "# Transforming into column\n",
    "data_imp_trans=ColumnTransformer([(\"data_cat_imp\",data_cat_imp,cat_imp_feature),\n",
    "                                 (\"data_num_imp\",data_num_imp,num_imp_feature)])\n",
    "\n",
    "# Transforming and assigning the data\n",
    "transformed_data=data_imp_trans.fit_transform(df)\n",
    "transformed_data\n",
    "#Transforming the data into data frame\n",
    "df_job_transformed_data=pd.DataFrame(transformed_data,\n",
    "                         columns=[\"title\",\"location\",\"department\",\"salary_range\",\"company_profile\",\"description\",\n",
    "                                  \"requirements\",\"benefits\", \"employment_type\",\"required_experience\",\"required_education\",\n",
    "                                  \"industry\",\"function\",\"job_id\",\"telecommuting\",\"has_company_logo\",\"has_questions\",\n",
    "                                  \"fraudulent\"])\n",
    "\n",
    "X_trans = df_job_transformed_data.drop(\"fraudulent\",axis=1)\n",
    "y_trans = df_job_transformed_data.fraudulent\n",
    "y_trans=y_trans.astype('int')\n",
    "\n",
    "X_trans.shape, y_trans.shape,X_trans.columns\n",
    "\n",
    "# Instantation of One Hot Encoder for categorical data tarnsformatio into Numeric \n",
    "one_hot=OneHotEncoder()\n",
    "clf_trans=ColumnTransformer([(\"one_hot\",one_hot,cat_imp_feature)],remainder=\"passthrough\")\n",
    "X_trans_fin=clf_trans.fit_transform(X_trans)\n",
    "np.array(X_trans_fin)\n",
    "\n",
    "X_train,X_test,y_train,y_test=train_test_split(X_trans_fin,y_trans,test_size=0.25, random_state=42)\n",
    "X_train.shape,X_test.shape,y_train.shape,y_test.shape"
   ]
  },
  {
   "cell_type": "code",
   "execution_count": 22,
   "id": "fa960cda",
   "metadata": {},
   "outputs": [],
   "source": [
    "from sklearn.ensemble import RandomForestClassifier\n",
    "# Random forest\n",
    "model_rfm=RandomForestClassifier(random_state=42)\n",
    "model_rfm.fit(X_train,y_train)\n",
    "y_pred_rfm = model_rfm.predict(X_test)\n",
    "rfc_accuracy = model_rfm.score(X_test, y_test)"
   ]
  },
  {
   "cell_type": "code",
   "execution_count": 30,
   "id": "b0bafb9e",
   "metadata": {},
   "outputs": [
    {
     "name": "stdout",
     "output_type": "stream",
     "text": [
      "Fake Job Random Forest Model Classification  Accuracy : 99.48%\n"
     ]
    }
   ],
   "source": [
    "print(f\"Fake Job Random Forest Model Classification  Accuracy : {rfc_accuracy*100:.2f}%\")\n"
   ]
  },
  {
   "cell_type": "markdown",
   "id": "7341c906",
   "metadata": {},
   "source": [
    "## How many trees should we use in this Random Forest Algo?\n",
    "## Let's tune this hyperparameter"
   ]
  },
  {
   "cell_type": "code",
   "execution_count": 34,
   "id": "b7d8c3d1",
   "metadata": {},
   "outputs": [
    {
     "name": "stdout",
     "output_type": "stream",
     "text": [
      "n of trees: 10\n",
      "correct predictions: 98.4536082474227\n",
      "-------------------------------------------------------------------\n",
      "n of trees: 50\n",
      "correct predictions: 98.96907216494846\n",
      "-------------------------------------------------------------------\n",
      "n of trees: 100\n",
      "correct predictions: 99.48453608247422\n",
      "-------------------------------------------------------------------\n",
      "n of trees: 200\n",
      "correct predictions: 99.48453608247422\n",
      "-------------------------------------------------------------------\n",
      "n of trees: 300\n",
      "correct predictions: 99.48453608247422\n",
      "-------------------------------------------------------------------\n"
     ]
    }
   ],
   "source": [
    "n_trees = [10,50,100,200,300]\n",
    "for i in n_trees:\n",
    "    ran_for = RandomForestClassifier(n_estimators=i)\n",
    "    ran_for.fit(X_train,y_train)\n",
    "    pred = ran_for.predict(X_test)\n",
    "    \n",
    "    print('n of trees: {}'.format(i))\n",
    "    #Each time of prediction,the accuracy is measured\n",
    "    correct_pred = 0\n",
    "    for j,k in zip(y_test,pred):\n",
    "        if j == k:\n",
    "            correct_pred += 1\n",
    "    print('correct predictions: {}'.format(correct_pred/len(y_test) *100))\n",
    "    print('-------------------------------------------------------------------')"
   ]
  },
  {
   "cell_type": "markdown",
   "id": "3422a24e",
   "metadata": {},
   "source": [
    "# The visualisation below shows feature importance of fields in the dataset on the classification"
   ]
  },
  {
   "cell_type": "code",
   "execution_count": 28,
   "id": "13e2ee70",
   "metadata": {},
   "outputs": [
    {
     "name": "stderr",
     "output_type": "stream",
     "text": [
      "<ipython-input-28-e8dc5a96fe3d>:5: RuntimeWarning: divide by zero encountered in log\n",
      "  log_val.append(np.log(i))\n"
     ]
    },
    {
     "data": {
      "image/png": "[encoded data removed]",
      "text/plain": [
       "<Figure size 1296x720 with 1 Axes>"
      ]
     },
     "metadata": {
      "needs_background": "light"
     },
     "output_type": "display_data"
    }
   ],
   "source": [
    "feature_dict=dict(zip((df.columns),list(model_rfm.feature_importances_)))\n",
    "\n",
    "log_val = []\n",
    "for i in feature_dict.values():\n",
    "    log_val.append(np.log(i))\n",
    "\n",
    "log_val = np.nan_to_num(log_val, neginf=0)\n",
    "log_val = [i * (-1) for i in log_val]\n",
    "names = list(feature_dict.keys())\n",
    "dictionary = dict(zip(names, log_val))\n",
    "\n",
    "sorted_dict = dict(sorted(dictionary.items(), key=lambda item: item[1], reverse = True))\n",
    "names = []\n",
    "values = []\n",
    "for k, v in sorted_dict.items():\n",
    "    if v != -0.0:\n",
    "        names.append(k)\n",
    "        values.append(v)\n",
    "        \n",
    "plt.figure(figsize = (18, 10))\n",
    "colors = ['#4b5320']\n",
    "plt.barh(range(len(values)), values, tick_label=names, color = colors[0])\n",
    "plt.xticks(rotation=45)\n",
    "plt.title('Feature importance')\n",
    "plt.show()"
   ]
  },
  {
   "cell_type": "markdown",
   "id": "e8a558a4",
   "metadata": {},
   "source": [
    "## Random Forest Algorithm"
   ]
  },
  {
   "cell_type": "markdown",
   "id": "5e5235a1",
   "metadata": {},
   "source": [
    "\n",
    "Random Forest is a well-known machine learning algorithm that uses the supervised learning method. In machine learning, it may be utilized for both classification and regression issues. It is based on ensemble learning, which is a method of integrating several classifiers to solve a complicated issue and increase the model's performance.\n",
    "\n",
    "\"Random Forest is a classifier that contains a number of decision trees on various subsets of a given dataset and takes the average to enhance the predicted accuracy of that dataset,\" according to the name. Instead than depending on a single decision tree, the random forest collects the forecasts from each tree and predicts the final output based on the majority votes of predictions."
   ]
  }
 ],
 "metadata": {
  "kernelspec": {
   "display_name": "Python 3",
   "language": "python",
   "name": "python3"
  },
  "language_info": {
   "codemirror_mode": {
    "name": "ipython",
    "version": 3
   },
   "file_extension": ".py",
   "mimetype": "text/x-python",
   "name": "python",
   "nbconvert_exporter": "python",
   "pygments_lexer": "ipython3",
   "version": "3.8.8"
  }
 },
 "nbformat": 4,
 "nbformat_minor": 5
}
